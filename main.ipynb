{
 "cells": [
  {
   "cell_type": "markdown",
   "metadata": {},
   "source": [
    "# Head"
   ]
  },
  {
   "cell_type": "code",
   "execution_count": 11,
   "metadata": {
    "tags": []
   },
   "outputs": [],
   "source": [
    "import numpy as np\n",
    "import pandas as pd\n",
    "import time\n",
    "import serial\n",
    "from matplotlib import pyplot as plt\n",
    "from tqdm import tqdm\n",
    "from os import listdir\n",
    "import textwrap\n",
    "%matplotlib widget"
   ]
  },
  {
   "cell_type": "code",
   "execution_count": 82,
   "metadata": {},
   "outputs": [],
   "source": [
    "# from tensorflow.keras.utils import to_categorical\n",
    "from sklearn.linear_model import LogisticRegression\n",
    "from sklearn.preprocessing import MinMaxScaler, LabelEncoder\n",
    "from sklearn.model_selection import learning_curve, StratifiedKFold, LearningCurveDisplay\n",
    "from sklearn.metrics import classification_report, f1_score, confusion_matrix, ConfusionMatrixDisplay\n",
    "\n",
    "import optuna\n",
    "from optuna_dashboard import save_note, run_server\n",
    "\n",
    "from IPython.display import clear_output"
   ]
  },
  {
   "cell_type": "code",
   "execution_count": 13,
   "metadata": {},
   "outputs": [
    {
     "data": {
      "text/plain": [
       "' \\nДобавить метод склеивания датасетов\\nДобавить 2 метода разделения данных в Train-test split\\nВыявлять аномалии в датасете и как-то их обрабатывать\\n'"
      ]
     },
     "execution_count": 13,
     "metadata": {},
     "output_type": "execute_result"
    }
   ],
   "source": [
    "''' \n",
    "+ Добавить метод склеивания датасетов \n",
    "+(1 метод) Добавить 2 метода разделения данных в Train-test split\n",
    "Выявлять аномалии в датасете и как-то их обрабатывать\n",
    "'''"
   ]
  },
  {
   "cell_type": "code",
   "execution_count": 14,
   "metadata": {},
   "outputs": [],
   "source": [
    "model_name = None # LogisticRegression\n",
    "model = LogisticRegression(max_iter=5000,class_weight={0: 1, 1: 1, 2: 1, 3: 10, 4: 1, 5: 1}) # \n",
    "# comet.ml data\n",
    "API_KEY = ''\n",
    "PROJECT_NAME = ''\n",
    "WORKSPACE = ''\n",
    "# do list\n",
    "DO_DRAW_PLOTS = False # Построение графиков\n",
    "DO_OPTUNA_SEARCH = False # Поиск гиперпараметров\n",
    "DO_POLYNOMIAL_FEATURES = False # Полиномиальные признаки\n",
    "DO_MMSCALER = True # Скалирование данных\n",
    "DO_PLOT_LEARNING_CURVE = False # Нарисовать график кривой обучения\n",
    "DO_OFFLINE_INFERENCE = False # Оффлайн проверка инференса\n",
    "DO_ONLINE_INFERENCE = False # Онлайн проверка инференса\n",
    "DO_LOG = False # Логирование "
   ]
  },
  {
   "cell_type": "code",
   "execution_count": 15,
   "metadata": {},
   "outputs": [],
   "source": [
    "try: print_report() \n",
    "except: pass"
   ]
  },
  {
   "cell_type": "markdown",
   "metadata": {},
   "source": [
    "# IO utils\n"
   ]
  },
  {
   "cell_type": "code",
   "execution_count": 16,
   "metadata": {
    "tags": []
   },
   "outputs": [],
   "source": [
    "def read_omg_csv(path_palm_data: str, \n",
    "                 n_omg_channels: int, \n",
    "                 n_acc_channels: int = 0, \n",
    "                 n_gyr_channels: int = 0, \n",
    "                 n_mag_channels: int = 0, \n",
    "                 n_enc_channels: int = 0,\n",
    "                 button_ch: bool = True, \n",
    "                 sync_ch: bool = True, \n",
    "                 timestamp_ch: bool = True) -> pd.DataFrame:\n",
    "    \n",
    "    '''\n",
    "    Reads CSV data for OMG data\n",
    "    NB: data must be separated by \" \" separator\n",
    "\n",
    "        Parameters:\n",
    "                path_palm_data  (str): path to csv data file\n",
    "                n_omg_channels  (int): Number of OMG channels\n",
    "                n_acc_channels  (int): Number of Accelerometer channels, default = 0\n",
    "                n_gyr_channels  (int): Number of Gyroscope channels, default = 0\n",
    "                n_mag_channels  (int): Number of Magnetometer channels, default = 0\n",
    "                n_enc_channels  (int): Number of Encoder channels, default = 0\n",
    "                button_ch      (bool): If button channel is present, default = True\n",
    "                sync_ch        (bool): If synchronization channel is present, default = True\n",
    "                timestamp_ch   (bool): If timestamp channel is present, default = True\n",
    "\n",
    "        Returns:\n",
    "                df_raw (pd.DataFrame): Parsed pandas Dataframe with OMG data\n",
    "    '''\n",
    "    \n",
    "    df_raw = pd.read_csv(path_palm_data, sep=' ', \n",
    "                         header=None, \n",
    "                         skipfooter=1, \n",
    "                         skiprows=1, \n",
    "                         engine='python')\n",
    "    columns = np.arange(n_omg_channels).astype('str').tolist()\n",
    "    \n",
    "    for label, label_count in zip(['ACC', 'GYR', 'MAG', 'ENC'], \n",
    "                                  [n_acc_channels, n_gyr_channels, n_mag_channels, n_enc_channels]):\n",
    "        columns = columns + ['{}{}'.format(label, i) for i in range(label_count)]\n",
    "        \n",
    "    if button_ch:\n",
    "        columns = columns + ['BUTTON']\n",
    "        \n",
    "    if sync_ch:\n",
    "        columns = columns + ['SYNC']\n",
    "        \n",
    "    if timestamp_ch:\n",
    "        columns = columns + ['ts']\n",
    "        \n",
    "    df_raw.columns = columns\n",
    "    \n",
    "    return df_raw"
   ]
  },
  {
   "cell_type": "code",
   "execution_count": 17,
   "metadata": {},
   "outputs": [],
   "source": [
    "def print_report():\n",
    "    y_pred_train = model.predict(X_train)\n",
    "    y_pred_test = model.predict(X_test)\n",
    "    print('='*25,'Train','='*25)\n",
    "    print(classification_report(y_train, y_pred_train, target_names=GESTURES))\n",
    "    print('='*25,'Test','='*25)\n",
    "    print(classification_report(y_test, y_pred_test, target_names=GESTURES))"
   ]
  },
  {
   "cell_type": "code",
   "execution_count": 18,
   "metadata": {},
   "outputs": [],
   "source": [
    "# Функция для рисования матрицы ошибок:\n",
    "def draw_confusion_matrix(model,X,y):\n",
    "    predictions = model.predict(X)\n",
    "    cm = confusion_matrix(y, predictions, labels=model.classes_)\n",
    "    disp = ConfusionMatrixDisplay(\n",
    "        confusion_matrix=cm,\n",
    "        display_labels=model.classes_\n",
    "    )\n",
    "    disp.plot();"
   ]
  },
  {
   "cell_type": "markdown",
   "metadata": {},
   "source": [
    "# Abbreviations\n",
    "OMG — optomiography  \n",
    "ACC — accelerometer  \n",
    "GYR — gyroscope  \n",
    "ENC - encoders (fingers of prosthesis or gloves)  \n",
    "model — model of data  "
   ]
  },
  {
   "cell_type": "markdown",
   "metadata": {},
   "source": [
    "# Data"
   ]
  },
  {
   "cell_type": "code",
   "execution_count": 19,
   "metadata": {},
   "outputs": [
    {
     "data": {
      "text/plain": [
       "['./data/2023-05-05_17-57-30.palm',\n",
       " './data/2023-05-07_15-19-05.palm',\n",
       " './data/2023-05-12_19-17-00.palm']"
      ]
     },
     "execution_count": 19,
     "metadata": {},
     "output_type": "execute_result"
    }
   ],
   "source": [
    "# Список доступных датасетов отсеянный от плохих\n",
    "palms_list = ['./data/'+s for s in listdir('./data/') if s.__len__() == 24]\n",
    "palm_files = palms_list[10]\n",
    "\n",
    "# Список индексов пути файла датасетов отсортированный по метрикам от худшего к лучшему\n",
    "bad_data = [28, 5, 18, 2, 17, 27, 22, 16, 11, 20, 3, 19, 14, 26, 12, 21, 1, 23, 15, 13, 24, 4, 25, 9, 10, 7, 6, 8, 0]\n",
    "bad_data = bad_data[:9] # Отсеиваем 9 худших датасетов\n",
    "\n",
    "new_list = []\n",
    "for i, palm_file in enumerate(palms_list):\n",
    "    if not i in bad_data:\n",
    "        new_list.append(palm_file)\n",
    "palms_list = new_list\n",
    "palms_list[:3]"
   ]
  },
  {
   "cell_type": "code",
   "execution_count": 20,
   "metadata": {},
   "outputs": [
    {
     "data": {
      "text/html": [
       "<div>\n",
       "<style scoped>\n",
       "    .dataframe tbody tr th:only-of-type {\n",
       "        vertical-align: middle;\n",
       "    }\n",
       "\n",
       "    .dataframe tbody tr th {\n",
       "        vertical-align: top;\n",
       "    }\n",
       "\n",
       "    .dataframe thead th {\n",
       "        text-align: right;\n",
       "    }\n",
       "</style>\n",
       "<table border=\"1\" class=\"dataframe\">\n",
       "  <thead>\n",
       "    <tr style=\"text-align: right;\">\n",
       "      <th></th>\n",
       "      <th>montage</th>\n",
       "      <th>pilote_id</th>\n",
       "      <th>last_train_idx</th>\n",
       "      <th>len(train)</th>\n",
       "      <th>len(test)</th>\n",
       "    </tr>\n",
       "  </thead>\n",
       "  <tbody>\n",
       "    <tr>\n",
       "      <th>0</th>\n",
       "      <td>2023-05-15_16-16-08.palm</td>\n",
       "      <td>1</td>\n",
       "      <td>23337</td>\n",
       "      <td>23337</td>\n",
       "      <td>5810</td>\n",
       "    </tr>\n",
       "    <tr>\n",
       "      <th>3</th>\n",
       "      <td>2023-06-05_17-53-01.palm</td>\n",
       "      <td>1</td>\n",
       "      <td>17771</td>\n",
       "      <td>17771</td>\n",
       "      <td>4435</td>\n",
       "    </tr>\n",
       "    <tr>\n",
       "      <th>4</th>\n",
       "      <td>2023-06-20_14-43-11.palm</td>\n",
       "      <td>1</td>\n",
       "      <td>17936</td>\n",
       "      <td>17936</td>\n",
       "      <td>4441</td>\n",
       "    </tr>\n",
       "    <tr>\n",
       "      <th>5</th>\n",
       "      <td>2023-06-20_13-30-15.palm</td>\n",
       "      <td>1</td>\n",
       "      <td>17928</td>\n",
       "      <td>17928</td>\n",
       "      <td>4435</td>\n",
       "    </tr>\n",
       "    <tr>\n",
       "      <th>6</th>\n",
       "      <td>2023-06-20_12-34-17.palm</td>\n",
       "      <td>1</td>\n",
       "      <td>17758</td>\n",
       "      <td>17758</td>\n",
       "      <td>4444</td>\n",
       "    </tr>\n",
       "  </tbody>\n",
       "</table>\n",
       "</div>"
      ],
      "text/plain": [
       "                    montage  pilote_id  last_train_idx  len(train)  len(test)\n",
       "0  2023-05-15_16-16-08.palm          1           23337       23337       5810\n",
       "3  2023-06-05_17-53-01.palm          1           17771       17771       4435\n",
       "4  2023-06-20_14-43-11.palm          1           17936       17936       4441\n",
       "5  2023-06-20_13-30-15.palm          1           17928       17928       4435\n",
       "6  2023-06-20_12-34-17.palm          1           17758       17758       4444"
      ]
     },
     "execution_count": 20,
     "metadata": {},
     "output_type": "execute_result"
    }
   ],
   "source": [
    "# Датасет с метаинформацией про данные\n",
    "df_meta = pd.read_csv('./data/meta_information.csv', index_col=0)\n",
    "df_meta = df_meta[df_meta['montage'].isin([s[7:] for s in palms_list])] # Оставляем только те файлы что есть в списке допущенных\n",
    "df_meta.head()"
   ]
  },
  {
   "cell_type": "code",
   "execution_count": 21,
   "metadata": {},
   "outputs": [],
   "source": [
    "def get_palm_files(pilot_id=1): # Выбираем файлы по пилоту\n",
    "    palm_files = df_meta[df_meta['pilote_id'] == pilot_id]['montage'].values\n",
    "    palm_files = ['./data/'+s for s in palm_files]\n",
    "    return palm_files"
   ]
  },
  {
   "cell_type": "code",
   "execution_count": 22,
   "metadata": {},
   "outputs": [
    {
     "data": {
      "text/plain": [
       "['./data/2023-05-15_16-16-08.palm',\n",
       " './data/2023-06-05_17-53-01.palm',\n",
       " './data/2023-06-20_14-43-11.palm',\n",
       " './data/2023-06-20_13-30-15.palm',\n",
       " './data/2023-06-20_12-34-17.palm']"
      ]
     },
     "execution_count": 22,
     "metadata": {},
     "output_type": "execute_result"
    }
   ],
   "source": [
    "palm_files = get_palm_files(pilot_id=1)\n",
    "palm_files"
   ]
  },
  {
   "cell_type": "code",
   "execution_count": 23,
   "metadata": {},
   "outputs": [],
   "source": [
    "def read_X(palm_files):\n",
    "    X = pd.DataFrame()\n",
    "    for palm_file in palm_files:\n",
    "        X = pd.concat([X,read_omg_csv(palm_file, \n",
    "                                  n_omg_channels=50,\n",
    "                                  n_acc_channels=3, \n",
    "                                  n_gyr_channels=3, \n",
    "                                  n_enc_channels=6, \n",
    "                                  n_mag_channels=0)])\n",
    "    return X"
   ]
  },
  {
   "cell_type": "code",
   "execution_count": 24,
   "metadata": {},
   "outputs": [
    {
     "name": "stdout",
     "output_type": "stream",
     "text": [
      "(118285, 65)\n"
     ]
    },
    {
     "data": {
      "text/html": [
       "<div>\n",
       "<style scoped>\n",
       "    .dataframe tbody tr th:only-of-type {\n",
       "        vertical-align: middle;\n",
       "    }\n",
       "\n",
       "    .dataframe tbody tr th {\n",
       "        vertical-align: top;\n",
       "    }\n",
       "\n",
       "    .dataframe thead th {\n",
       "        text-align: right;\n",
       "    }\n",
       "</style>\n",
       "<table border=\"1\" class=\"dataframe\">\n",
       "  <thead>\n",
       "    <tr style=\"text-align: right;\">\n",
       "      <th></th>\n",
       "      <th>0</th>\n",
       "      <th>1</th>\n",
       "      <th>2</th>\n",
       "      <th>3</th>\n",
       "      <th>4</th>\n",
       "      <th>5</th>\n",
       "      <th>6</th>\n",
       "      <th>7</th>\n",
       "      <th>8</th>\n",
       "      <th>9</th>\n",
       "      <th>...</th>\n",
       "      <th>GYR2</th>\n",
       "      <th>ENC0</th>\n",
       "      <th>ENC1</th>\n",
       "      <th>ENC2</th>\n",
       "      <th>ENC3</th>\n",
       "      <th>ENC4</th>\n",
       "      <th>ENC5</th>\n",
       "      <th>BUTTON</th>\n",
       "      <th>SYNC</th>\n",
       "      <th>ts</th>\n",
       "    </tr>\n",
       "  </thead>\n",
       "  <tbody>\n",
       "    <tr>\n",
       "      <th>0</th>\n",
       "      <td>2</td>\n",
       "      <td>4</td>\n",
       "      <td>3</td>\n",
       "      <td>843</td>\n",
       "      <td>1831</td>\n",
       "      <td>1</td>\n",
       "      <td>1387</td>\n",
       "      <td>2</td>\n",
       "      <td>4</td>\n",
       "      <td>1</td>\n",
       "      <td>...</td>\n",
       "      <td>0</td>\n",
       "      <td>0</td>\n",
       "      <td>0</td>\n",
       "      <td>0</td>\n",
       "      <td>0</td>\n",
       "      <td>0</td>\n",
       "      <td>0</td>\n",
       "      <td>0</td>\n",
       "      <td>0</td>\n",
       "      <td>523008</td>\n",
       "    </tr>\n",
       "    <tr>\n",
       "      <th>1</th>\n",
       "      <td>5</td>\n",
       "      <td>5</td>\n",
       "      <td>4</td>\n",
       "      <td>840</td>\n",
       "      <td>1834</td>\n",
       "      <td>0</td>\n",
       "      <td>1391</td>\n",
       "      <td>3</td>\n",
       "      <td>0</td>\n",
       "      <td>4</td>\n",
       "      <td>...</td>\n",
       "      <td>0</td>\n",
       "      <td>0</td>\n",
       "      <td>0</td>\n",
       "      <td>0</td>\n",
       "      <td>0</td>\n",
       "      <td>0</td>\n",
       "      <td>0</td>\n",
       "      <td>0</td>\n",
       "      <td>0</td>\n",
       "      <td>523041</td>\n",
       "    </tr>\n",
       "    <tr>\n",
       "      <th>2</th>\n",
       "      <td>6</td>\n",
       "      <td>3</td>\n",
       "      <td>4</td>\n",
       "      <td>838</td>\n",
       "      <td>1830</td>\n",
       "      <td>3</td>\n",
       "      <td>1388</td>\n",
       "      <td>4</td>\n",
       "      <td>1</td>\n",
       "      <td>4</td>\n",
       "      <td>...</td>\n",
       "      <td>0</td>\n",
       "      <td>0</td>\n",
       "      <td>0</td>\n",
       "      <td>0</td>\n",
       "      <td>0</td>\n",
       "      <td>0</td>\n",
       "      <td>0</td>\n",
       "      <td>0</td>\n",
       "      <td>0</td>\n",
       "      <td>523074</td>\n",
       "    </tr>\n",
       "    <tr>\n",
       "      <th>3</th>\n",
       "      <td>0</td>\n",
       "      <td>2</td>\n",
       "      <td>3</td>\n",
       "      <td>832</td>\n",
       "      <td>1826</td>\n",
       "      <td>1</td>\n",
       "      <td>1383</td>\n",
       "      <td>4</td>\n",
       "      <td>0</td>\n",
       "      <td>4</td>\n",
       "      <td>...</td>\n",
       "      <td>0</td>\n",
       "      <td>0</td>\n",
       "      <td>0</td>\n",
       "      <td>0</td>\n",
       "      <td>0</td>\n",
       "      <td>0</td>\n",
       "      <td>0</td>\n",
       "      <td>0</td>\n",
       "      <td>0</td>\n",
       "      <td>523107</td>\n",
       "    </tr>\n",
       "    <tr>\n",
       "      <th>4</th>\n",
       "      <td>6</td>\n",
       "      <td>3</td>\n",
       "      <td>7</td>\n",
       "      <td>840</td>\n",
       "      <td>1834</td>\n",
       "      <td>2</td>\n",
       "      <td>1391</td>\n",
       "      <td>5</td>\n",
       "      <td>3</td>\n",
       "      <td>5</td>\n",
       "      <td>...</td>\n",
       "      <td>0</td>\n",
       "      <td>0</td>\n",
       "      <td>0</td>\n",
       "      <td>0</td>\n",
       "      <td>0</td>\n",
       "      <td>0</td>\n",
       "      <td>0</td>\n",
       "      <td>0</td>\n",
       "      <td>0</td>\n",
       "      <td>523140</td>\n",
       "    </tr>\n",
       "  </tbody>\n",
       "</table>\n",
       "<p>5 rows × 65 columns</p>\n",
       "</div>"
      ],
      "text/plain": [
       "   0  1  2    3     4  5     6  7  8  9  ...  GYR2  ENC0  ENC1  ENC2  ENC3   \n",
       "0  2  4  3  843  1831  1  1387  2  4  1  ...     0     0     0     0     0  \\\n",
       "1  5  5  4  840  1834  0  1391  3  0  4  ...     0     0     0     0     0   \n",
       "2  6  3  4  838  1830  3  1388  4  1  4  ...     0     0     0     0     0   \n",
       "3  0  2  3  832  1826  1  1383  4  0  4  ...     0     0     0     0     0   \n",
       "4  6  3  7  840  1834  2  1391  5  3  5  ...     0     0     0     0     0   \n",
       "\n",
       "   ENC4  ENC5  BUTTON  SYNC      ts  \n",
       "0     0     0       0     0  523008  \n",
       "1     0     0       0     0  523041  \n",
       "2     0     0       0     0  523074  \n",
       "3     0     0       0     0  523107  \n",
       "4     0     0       0     0  523140  \n",
       "\n",
       "[5 rows x 65 columns]"
      ]
     },
     "execution_count": 24,
     "metadata": {},
     "output_type": "execute_result"
    }
   ],
   "source": [
    "gestures = read_X(palm_files)\n",
    "print(gestures.shape)\n",
    "gestures.head()"
   ]
  },
  {
   "cell_type": "code",
   "execution_count": 25,
   "metadata": {
    "tags": []
   },
   "outputs": [
    {
     "data": {
      "text/plain": [
       "Index(['0', '1', '2', '3', '4', '5', '6', '7', '8', '9', '10', '11', '12',\n",
       "       '13', '14', '15', '16', '17', '18', '19', '20', '21', '22', '23', '24',\n",
       "       '25', '26', '27', '28', '29', '30', '31', '32', '33', '34', '35', '36',\n",
       "       '37', '38', '39', '40', '41', '42', '43', '44', '45', '46', '47', '48',\n",
       "       '49', 'ACC0', 'ACC1', 'ACC2', 'GYR0', 'GYR1', 'GYR2', 'ENC0', 'ENC1',\n",
       "       'ENC2', 'ENC3', 'ENC4', 'ENC5', 'BUTTON', 'SYNC', 'ts'],\n",
       "      dtype='object')"
      ]
     },
     "execution_count": 25,
     "metadata": {},
     "output_type": "execute_result"
    }
   ],
   "source": [
    "# [X features] '0', ..., '49' - каналы OMG датчиков\n",
    "#              'ACC0', 'ACC1', 'ACC2' - акселерометр (потенциально могут использоваться как факторы для модели)\n",
    "#              'GYR0', 'GYR1', 'GYR2' - гироскоп     (потенциально могут использоваться как факторы для модели)\n",
    "# 'BUTTON' - не используется\n",
    "# 'SYNC' - синхронизация данных с протоколом\n",
    "# 'ts' - метка времени\n",
    "gestures.columns"
   ]
  },
  {
   "cell_type": "code",
   "execution_count": 26,
   "metadata": {
    "tags": []
   },
   "outputs": [
    {
     "name": "stdout",
     "output_type": "stream",
     "text": [
      "OMG_CH: ['0', '1', '2', '3', '4', '5', '6', '7', '8', '9', '10', '11', '12', '13', '14', '15', '16', '17', '18', '19', '20', '21', '22', '23', '24', '25', '26', '27', '28', '29', '30', '31', '32', '33', '34', '35', '36', '37', '38', '39', '40', '41', '42', '43', '44', '45', '46', '47', '48', '49']\n",
      "ACC_CH: ['ACC0', 'ACC1', 'ACC2']\n",
      "GYR_CH: ['GYR0', 'GYR1', 'GYR2']\n",
      "ENC_CH: ['ENC0', 'ENC1', 'ENC2', 'ENC3', 'ENC4', 'ENC5']\n",
      "BUTTON_SYNC_TS_CH: ['BUTTON', 'SYNC', 'ts']\n"
     ]
    }
   ],
   "source": [
    "# Списки с названиями признаков\n",
    "OMG_CH = [str(i) for i in range(50)]\n",
    "\n",
    "ACC_CH = ['ACC0', 'ACC1', 'ACC2']\n",
    "GYR_CH = ['GYR0', 'GYR1', 'GYR2']\n",
    "\n",
    "ENC_CH = ['ENC0', 'ENC1', 'ENC2', 'ENC3', 'ENC4', 'ENC5']\n",
    "BUTTON_SYNC_TS_CH = ['BUTTON', 'SYNC', 'ts']\n",
    "# Проверка что списки нужной длины\n",
    "assert len(OMG_CH)+len(ACC_CH)+len(GYR_CH)+len(ENC_CH)+len(BUTTON_SYNC_TS_CH) == gestures.shape[-1]\n",
    "\n",
    "ALL_CH = OMG_CH + ACC_CH + GYR_CH\n",
    "\n",
    "print(f\"OMG_CH: {list(OMG_CH)}\")\n",
    "print(f\"ACC_CH: {list(ACC_CH)}\")\n",
    "print(f\"GYR_CH: {list(GYR_CH)}\")\n",
    "print(f\"ENC_CH: {list(ENC_CH)}\")\n",
    "print(f\"BUTTON_SYNC_TS_CH: {list(BUTTON_SYNC_TS_CH)}\")"
   ]
  },
  {
   "cell_type": "markdown",
   "metadata": {},
   "source": [
    "### OMG_CH"
   ]
  },
  {
   "cell_type": "code",
   "execution_count": 27,
   "metadata": {
    "tags": []
   },
   "outputs": [],
   "source": [
    "if DO_DRAW_PLOTS:\n",
    "    # График показаний датчиков\n",
    "    fig = plt.figure(figsize=(10, 4))\n",
    "    plt.plot(gestures[OMG_CH].values)\n",
    "    plt.title('OMG')\n",
    "    plt.xlabel('Timesteps')\n",
    "    plt.tight_layout()"
   ]
  },
  {
   "cell_type": "markdown",
   "metadata": {},
   "source": [
    "### ACC GYR"
   ]
  },
  {
   "cell_type": "code",
   "execution_count": 28,
   "metadata": {},
   "outputs": [],
   "source": [
    "if DO_DRAW_PLOTS:\n",
    "    # График показаний акселерометров\n",
    "    fig = plt.figure(figsize=(10, 4))\n",
    "    plt.plot(gestures[ACC_CH].values)\n",
    "    plt.title('ACC')\n",
    "    plt.xlabel('Timesteps')\n",
    "    plt.tight_layout()"
   ]
  },
  {
   "cell_type": "code",
   "execution_count": 29,
   "metadata": {},
   "outputs": [],
   "source": [
    "if DO_DRAW_PLOTS:\n",
    "    # График показаний гироскопов\n",
    "    fig = plt.figure(figsize=(10, 4))\n",
    "    plt.plot(gestures[GYR_CH].values)\n",
    "    plt.title('GYR')\n",
    "    plt.xlabel('Timesteps')\n",
    "    plt.tight_layout()"
   ]
  },
  {
   "cell_type": "markdown",
   "metadata": {},
   "source": [
    "### Protocol"
   ]
  },
  {
   "cell_type": "code",
   "execution_count": 30,
   "metadata": {},
   "outputs": [],
   "source": [
    "def read_y(palm_files):\n",
    "    y = pd.DataFrame()\n",
    "    for palm_file in palm_files:\n",
    "        y = pd.concat([y,pd.read_csv(f'{palm_file}.protocol.csv', index_col=0)])\n",
    "    return y"
   ]
  },
  {
   "cell_type": "code",
   "execution_count": 31,
   "metadata": {
    "tags": []
   },
   "outputs": [
    {
     "name": "stdout",
     "output_type": "stream",
     "text": [
      "(1715, 11)\n"
     ]
    },
    {
     "data": {
      "text/html": [
       "<div>\n",
       "<style scoped>\n",
       "    .dataframe tbody tr th:only-of-type {\n",
       "        vertical-align: middle;\n",
       "    }\n",
       "\n",
       "    .dataframe tbody tr th {\n",
       "        vertical-align: top;\n",
       "    }\n",
       "\n",
       "    .dataframe thead th {\n",
       "        text-align: right;\n",
       "    }\n",
       "</style>\n",
       "<table border=\"1\" class=\"dataframe\">\n",
       "  <thead>\n",
       "    <tr style=\"text-align: right;\">\n",
       "      <th></th>\n",
       "      <th>Thumb</th>\n",
       "      <th>Index</th>\n",
       "      <th>Middle</th>\n",
       "      <th>Ring</th>\n",
       "      <th>Pinky</th>\n",
       "      <th>Thumb_stretch</th>\n",
       "      <th>Index_stretch</th>\n",
       "      <th>Middle_stretch</th>\n",
       "      <th>Ring_stretch</th>\n",
       "      <th>Pinky_stretch</th>\n",
       "      <th>Pronation</th>\n",
       "    </tr>\n",
       "    <tr>\n",
       "      <th>epoch</th>\n",
       "      <th></th>\n",
       "      <th></th>\n",
       "      <th></th>\n",
       "      <th></th>\n",
       "      <th></th>\n",
       "      <th></th>\n",
       "      <th></th>\n",
       "      <th></th>\n",
       "      <th></th>\n",
       "      <th></th>\n",
       "      <th></th>\n",
       "    </tr>\n",
       "  </thead>\n",
       "  <tbody>\n",
       "    <tr>\n",
       "      <th>0</th>\n",
       "      <td>0.0</td>\n",
       "      <td>0.0</td>\n",
       "      <td>0.0</td>\n",
       "      <td>0.0</td>\n",
       "      <td>0.0</td>\n",
       "      <td>0.0</td>\n",
       "      <td>0.0</td>\n",
       "      <td>0.0</td>\n",
       "      <td>0.0</td>\n",
       "      <td>0.0</td>\n",
       "      <td>0.0</td>\n",
       "    </tr>\n",
       "    <tr>\n",
       "      <th>1</th>\n",
       "      <td>0.0</td>\n",
       "      <td>0.0</td>\n",
       "      <td>0.0</td>\n",
       "      <td>0.0</td>\n",
       "      <td>0.0</td>\n",
       "      <td>0.0</td>\n",
       "      <td>0.0</td>\n",
       "      <td>0.0</td>\n",
       "      <td>0.0</td>\n",
       "      <td>0.0</td>\n",
       "      <td>0.0</td>\n",
       "    </tr>\n",
       "    <tr>\n",
       "      <th>2</th>\n",
       "      <td>1.0</td>\n",
       "      <td>0.0</td>\n",
       "      <td>0.0</td>\n",
       "      <td>0.0</td>\n",
       "      <td>0.0</td>\n",
       "      <td>0.0</td>\n",
       "      <td>0.0</td>\n",
       "      <td>0.0</td>\n",
       "      <td>0.0</td>\n",
       "      <td>0.0</td>\n",
       "      <td>0.0</td>\n",
       "    </tr>\n",
       "    <tr>\n",
       "      <th>3</th>\n",
       "      <td>1.0</td>\n",
       "      <td>1.0</td>\n",
       "      <td>1.0</td>\n",
       "      <td>1.0</td>\n",
       "      <td>1.0</td>\n",
       "      <td>0.0</td>\n",
       "      <td>0.0</td>\n",
       "      <td>0.0</td>\n",
       "      <td>0.0</td>\n",
       "      <td>0.0</td>\n",
       "      <td>0.0</td>\n",
       "    </tr>\n",
       "    <tr>\n",
       "      <th>4</th>\n",
       "      <td>0.0</td>\n",
       "      <td>0.0</td>\n",
       "      <td>0.0</td>\n",
       "      <td>0.0</td>\n",
       "      <td>0.0</td>\n",
       "      <td>1.0</td>\n",
       "      <td>1.0</td>\n",
       "      <td>1.0</td>\n",
       "      <td>1.0</td>\n",
       "      <td>1.0</td>\n",
       "      <td>0.0</td>\n",
       "    </tr>\n",
       "  </tbody>\n",
       "</table>\n",
       "</div>"
      ],
      "text/plain": [
       "       Thumb  Index  Middle  Ring  Pinky  Thumb_stretch  Index_stretch   \n",
       "epoch                                                                    \n",
       "0        0.0    0.0     0.0   0.0    0.0            0.0            0.0  \\\n",
       "1        0.0    0.0     0.0   0.0    0.0            0.0            0.0   \n",
       "2        1.0    0.0     0.0   0.0    0.0            0.0            0.0   \n",
       "3        1.0    1.0     1.0   1.0    1.0            0.0            0.0   \n",
       "4        0.0    0.0     0.0   0.0    0.0            1.0            1.0   \n",
       "\n",
       "       Middle_stretch  Ring_stretch  Pinky_stretch  Pronation  \n",
       "epoch                                                          \n",
       "0                 0.0           0.0            0.0        0.0  \n",
       "1                 0.0           0.0            0.0        0.0  \n",
       "2                 0.0           0.0            0.0        0.0  \n",
       "3                 0.0           0.0            0.0        0.0  \n",
       "4                 1.0           1.0            1.0        0.0  "
      ]
     },
     "execution_count": 31,
     "metadata": {},
     "output_type": "execute_result"
    }
   ],
   "source": [
    "# Целевые признаки сгибаний и разгибаний пальцев руки\n",
    "gestures_protocol = read_y(palm_files)\n",
    "print(gestures_protocol.shape)\n",
    "gestures_protocol.head()"
   ]
  },
  {
   "cell_type": "code",
   "execution_count": 32,
   "metadata": {
    "tags": []
   },
   "outputs": [],
   "source": [
    "def encode_y(y):\n",
    "    # Перекодируем 10 признаков в 1 целевой признак \n",
    "    le = LabelEncoder()\n",
    "\n",
    "    # FIT\n",
    "    le.fit(\n",
    "        y[[\n",
    "            #'Pronation',\n",
    "            \"Thumb\",\"Index\",\"Middle\",\"Ring\",\"Pinky\",\n",
    "            'Thumb_stretch','Index_stretch','Middle_stretch','Ring_stretch','Pinky_stretch',\n",
    "        ]]\n",
    "        .apply(lambda row: str(tuple(row)), axis=1)\n",
    "    )\n",
    "    # TRANSFORM\n",
    "    y['gesture'] = le.transform(\n",
    "        y[[\n",
    "            #'Pronation',\n",
    "            \"Thumb\",\"Index\",\"Middle\",\"Ring\",\"Pinky\",\n",
    "            'Thumb_stretch','Index_stretch','Middle_stretch','Ring_stretch','Pinky_stretch',\n",
    "        ]]\n",
    "        .apply(lambda row: str(tuple(row)), axis=1)\n",
    "    )\n",
    "    #display(np.c_[le.transform(le.classes_), le.classes_])\n",
    "    return y\n",
    "# Оказалось только 6 уникальных комбинаций сгибаний и растягиваний пальцев"
   ]
  },
  {
   "cell_type": "code",
   "execution_count": 33,
   "metadata": {},
   "outputs": [
    {
     "data": {
      "text/html": [
       "<div>\n",
       "<style scoped>\n",
       "    .dataframe tbody tr th:only-of-type {\n",
       "        vertical-align: middle;\n",
       "    }\n",
       "\n",
       "    .dataframe tbody tr th {\n",
       "        vertical-align: top;\n",
       "    }\n",
       "\n",
       "    .dataframe thead th {\n",
       "        text-align: right;\n",
       "    }\n",
       "</style>\n",
       "<table border=\"1\" class=\"dataframe\">\n",
       "  <thead>\n",
       "    <tr style=\"text-align: right;\">\n",
       "      <th></th>\n",
       "      <th>Thumb</th>\n",
       "      <th>Index</th>\n",
       "      <th>Middle</th>\n",
       "      <th>Ring</th>\n",
       "      <th>Pinky</th>\n",
       "      <th>Thumb_stretch</th>\n",
       "      <th>Index_stretch</th>\n",
       "      <th>Middle_stretch</th>\n",
       "      <th>Ring_stretch</th>\n",
       "      <th>Pinky_stretch</th>\n",
       "      <th>Pronation</th>\n",
       "      <th>gesture</th>\n",
       "    </tr>\n",
       "    <tr>\n",
       "      <th>epoch</th>\n",
       "      <th></th>\n",
       "      <th></th>\n",
       "      <th></th>\n",
       "      <th></th>\n",
       "      <th></th>\n",
       "      <th></th>\n",
       "      <th></th>\n",
       "      <th></th>\n",
       "      <th></th>\n",
       "      <th></th>\n",
       "      <th></th>\n",
       "      <th></th>\n",
       "    </tr>\n",
       "  </thead>\n",
       "  <tbody>\n",
       "    <tr>\n",
       "      <th>0</th>\n",
       "      <td>0.0</td>\n",
       "      <td>0.0</td>\n",
       "      <td>0.0</td>\n",
       "      <td>0.0</td>\n",
       "      <td>0.0</td>\n",
       "      <td>0.0</td>\n",
       "      <td>0.0</td>\n",
       "      <td>0.0</td>\n",
       "      <td>0.0</td>\n",
       "      <td>0.0</td>\n",
       "      <td>0.0</td>\n",
       "      <td>0</td>\n",
       "    </tr>\n",
       "    <tr>\n",
       "      <th>1</th>\n",
       "      <td>0.0</td>\n",
       "      <td>0.0</td>\n",
       "      <td>0.0</td>\n",
       "      <td>0.0</td>\n",
       "      <td>0.0</td>\n",
       "      <td>0.0</td>\n",
       "      <td>0.0</td>\n",
       "      <td>0.0</td>\n",
       "      <td>0.0</td>\n",
       "      <td>0.0</td>\n",
       "      <td>0.0</td>\n",
       "      <td>0</td>\n",
       "    </tr>\n",
       "    <tr>\n",
       "      <th>2</th>\n",
       "      <td>1.0</td>\n",
       "      <td>0.0</td>\n",
       "      <td>0.0</td>\n",
       "      <td>0.0</td>\n",
       "      <td>0.0</td>\n",
       "      <td>0.0</td>\n",
       "      <td>0.0</td>\n",
       "      <td>0.0</td>\n",
       "      <td>0.0</td>\n",
       "      <td>0.0</td>\n",
       "      <td>0.0</td>\n",
       "      <td>3</td>\n",
       "    </tr>\n",
       "    <tr>\n",
       "      <th>3</th>\n",
       "      <td>1.0</td>\n",
       "      <td>1.0</td>\n",
       "      <td>1.0</td>\n",
       "      <td>1.0</td>\n",
       "      <td>1.0</td>\n",
       "      <td>0.0</td>\n",
       "      <td>0.0</td>\n",
       "      <td>0.0</td>\n",
       "      <td>0.0</td>\n",
       "      <td>0.0</td>\n",
       "      <td>0.0</td>\n",
       "      <td>5</td>\n",
       "    </tr>\n",
       "    <tr>\n",
       "      <th>4</th>\n",
       "      <td>0.0</td>\n",
       "      <td>0.0</td>\n",
       "      <td>0.0</td>\n",
       "      <td>0.0</td>\n",
       "      <td>0.0</td>\n",
       "      <td>1.0</td>\n",
       "      <td>1.0</td>\n",
       "      <td>1.0</td>\n",
       "      <td>1.0</td>\n",
       "      <td>1.0</td>\n",
       "      <td>0.0</td>\n",
       "      <td>1</td>\n",
       "    </tr>\n",
       "  </tbody>\n",
       "</table>\n",
       "</div>"
      ],
      "text/plain": [
       "       Thumb  Index  Middle  Ring  Pinky  Thumb_stretch  Index_stretch   \n",
       "epoch                                                                    \n",
       "0        0.0    0.0     0.0   0.0    0.0            0.0            0.0  \\\n",
       "1        0.0    0.0     0.0   0.0    0.0            0.0            0.0   \n",
       "2        1.0    0.0     0.0   0.0    0.0            0.0            0.0   \n",
       "3        1.0    1.0     1.0   1.0    1.0            0.0            0.0   \n",
       "4        0.0    0.0     0.0   0.0    0.0            1.0            1.0   \n",
       "\n",
       "       Middle_stretch  Ring_stretch  Pinky_stretch  Pronation  gesture  \n",
       "epoch                                                                   \n",
       "0                 0.0           0.0            0.0        0.0        0  \n",
       "1                 0.0           0.0            0.0        0.0        0  \n",
       "2                 0.0           0.0            0.0        0.0        3  \n",
       "3                 0.0           0.0            0.0        0.0        5  \n",
       "4                 1.0           1.0            1.0        0.0        1  "
      ]
     },
     "execution_count": 33,
     "metadata": {},
     "output_type": "execute_result"
    }
   ],
   "source": [
    "y_cmd = encode_y(gestures_protocol)\n",
    "y_cmd.head()"
   ]
  },
  {
   "cell_type": "code",
   "execution_count": 34,
   "metadata": {},
   "outputs": [
    {
     "data": {
      "text/plain": [
       "['Neutral', 'Open', 'Pistol', 'Thumb', 'OK', 'Grab']"
      ]
     },
     "execution_count": 34,
     "metadata": {},
     "output_type": "execute_result"
    }
   ],
   "source": [
    "GESTURES = ['Neutral', 'Open', 'Pistol', 'Thumb', 'OK', 'Grab']\n",
    "GESTURES"
   ]
  },
  {
   "cell_type": "code",
   "execution_count": 35,
   "metadata": {},
   "outputs": [
    {
     "data": {
      "text/plain": [
       "epoch\n",
       "0      0\n",
       "1      0\n",
       "2      3\n",
       "3      5\n",
       "4      1\n",
       "      ..\n",
       "356    3\n",
       "357    5\n",
       "358    1\n",
       "359    4\n",
       "360    2\n",
       "Name: gesture, Length: 1715, dtype: int32"
      ]
     },
     "execution_count": 35,
     "metadata": {},
     "output_type": "execute_result"
    }
   ],
   "source": [
    "# Жесты в разные эпохи, 1 эпоха = 1 жест\n",
    "gestures_protocol['gesture']"
   ]
  },
  {
   "cell_type": "code",
   "execution_count": 36,
   "metadata": {
    "tags": []
   },
   "outputs": [
    {
     "name": "stdout",
     "output_type": "stream",
     "text": [
      "(118285,)\n"
     ]
    }
   ],
   "source": [
    "# Расширенный целевой признак\n",
    "np.warnings.filterwarnings('ignore', category=np.VisibleDeprecationWarning)\n",
    "y_cmd = np.array([gestures_protocol['gesture'].iloc[s] for s in gestures['SYNC'].values]).flatten()\n",
    "print(y_cmd.shape)"
   ]
  },
  {
   "cell_type": "code",
   "execution_count": 37,
   "metadata": {},
   "outputs": [
    {
     "data": {
      "application/vnd.jupyter.widget-view+json": {
       "model_id": "0c915200e8544635ac35e423d381e332",
       "version_major": 2,
       "version_minor": 0
      },
      "image/png": "[encoded data removed]",
      "text/html": [
       "\n",
       "            <div style=\"display: inline-block;\">\n",
       "                <div class=\"jupyter-widgets widget-label\" style=\"text-align: center;\">\n",
       "                    Figure\n",
       "                </div>\n",
       "                <img src='data:image/png;base64,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' width=1000.0/>\n",
       "            </div>\n",
       "        "
      ],
      "text/plain": [
       "Canvas(toolbar=Toolbar(toolitems=[('Home', 'Reset original view', 'home', 'home'), ('Back', 'Back to previous …"
      ]
     },
     "metadata": {},
     "output_type": "display_data"
    }
   ],
   "source": [
    "fig, axx = plt.subplots(2, 1, sharex=True, figsize=(10, 5))\n",
    "\n",
    "plt.sca(axx[0])\n",
    "plt.plot(gestures[OMG_CH].values)\n",
    "plt.grid()\n",
    "plt.title('OMG_CH')\n",
    "\n",
    "plt.sca(axx[1])\n",
    "plt.plot(y_cmd)\n",
    "plt.grid()\n",
    "plt.yticks(np.arange(len(GESTURES)), GESTURES)\n",
    "plt.title('Command')\n",
    "plt.xlabel('Timesteps')\n",
    "    \n",
    "plt.suptitle('OMG and Protocol')\n",
    "plt.tight_layout()"
   ]
  },
  {
   "cell_type": "markdown",
   "metadata": {},
   "source": [
    "# Data preprocessing"
   ]
  },
  {
   "cell_type": "code",
   "execution_count": 38,
   "metadata": {},
   "outputs": [],
   "source": [
    "gestures = gestures[ALL_CH]"
   ]
  },
  {
   "cell_type": "markdown",
   "metadata": {},
   "source": [
    "## OMG_CH"
   ]
  },
  {
   "cell_type": "markdown",
   "metadata": {},
   "source": [
    "### Features generation"
   ]
  },
  {
   "cell_type": "code",
   "execution_count": 39,
   "metadata": {},
   "outputs": [],
   "source": [
    "#pd.concat([gestures[OMG_CH].iloc[:,[0]].shift(i).rename(lambda x:str(x)+f'_shift_{i}',axis=1) for i in range(0,4)],axis=1)"
   ]
  },
  {
   "cell_type": "code",
   "execution_count": 41,
   "metadata": {},
   "outputs": [],
   "source": [
    "def generate_features(df, windows=[5], lags=range(1,10), methods_list=None, do_lags=True, skip=False, do_tqdm=False):\n",
    "    \"\"\"Генерация признаков методами\n",
    "\n",
    "    Args:\n",
    "        df (DataFrame): Входной Dataframe\n",
    "        windows (list, optional): Список окон для некоторых методов. Defaults to [5].\n",
    "        lags (list, optional): Список лагов. Defaults to range(1,10).\n",
    "        methods_list (list, optional): Список применяемых методов, если не указан, то выполнит все. Defaults to None.\n",
    "        do_lags (bool, optional): Создавать ли лаги. Defaults to True.\n",
    "        skip (bool, optional): Пропускает этап генерации. Defaults to False.\n",
    "        do_tqdm (bool, optional): Включить шкалу прогресса. Defaults to False.\n",
    "\n",
    "    Returns:\n",
    "        df: Входной + сгенерированные признаки\n",
    "    \"\"\"    \n",
    "    if skip:\n",
    "        return df\n",
    "    # \n",
    "    av_methods = { \n",
    "        'moving_average': {'func': lambda x, window: x.rolling(window).mean(),'window':True},\n",
    "        'derivative': {'func': lambda x: x.diff(),'window':False},\n",
    "        'moving_std': {'func': lambda x, window: x.rolling(window).std(),'window':True},\n",
    "        #'moving_min': {'func': lambda x, window: x.rolling(window).min(),'window':True},\n",
    "        #'moving_max': {'func': lambda x, window: x.rolling(window).max(),'window':True},\n",
    "        'lag_diff': {'func': lambda x: features_df[f'{column}_lag_{lags[0]}'] - features_df[f'{column}_lag_{lags[-1]}'],'window':False}\n",
    "        #'pct_change': {'func': lambda x: x.pct_change()},\n",
    "    }\n",
    "    \n",
    "    methods = {}\n",
    "    if methods_list == None:\n",
    "        methods = av_methods\n",
    "    else:\n",
    "        for method in methods_list:\n",
    "            methods[method] = av_methods[method]\n",
    "    \n",
    "    features_df = pd.DataFrame(index=df.index)\n",
    "    \n",
    "    columns = df.columns\n",
    "    iter = tqdm(columns) if do_tqdm else columns # Выводить ли прогресс цикла\n",
    "    \n",
    "    if do_lags: # Создаем признаки лагов\n",
    "        lags_dict = {}\n",
    "        for column in columns:\n",
    "            for lag in lags:\n",
    "                lags_dict[f'{column}_lag_{lag}'] = df[column].shift(lag)\n",
    "        features_df = pd.concat([features_df, pd.DataFrame(lags_dict,index=df.index)],axis=1) # Добавляем лаги в датафрейм\n",
    "          \n",
    "    features_dict = {}\n",
    "    for column in iter: # Создаем признаки по методам\n",
    "        for method in methods:\n",
    "            method_info = methods[method]\n",
    "            if method_info['window']:\n",
    "                for window in windows:\n",
    "                    features_dict[f'{column}_{method}_w{window}'] = method_info['func'](df[column],window)\n",
    "            else:\n",
    "                features_dict[f'{column}_{method}'] = method_info['func'](df[column])\n",
    "    features_df = pd.concat([features_df, pd.DataFrame(features_dict,index=df.index)],axis=1) # Добавляем признаки в датафрейм\n",
    "    \n",
    "    features_df = features_df.bfill().ffill() # Убираем пропуски по краям на ближайшее значение\n",
    "    features_df = features_df.replace([np.inf,-np.inf],0)\n",
    "    \n",
    "    return pd.concat([df,features_df],axis=1)"
   ]
  },
  {
   "cell_type": "code",
   "execution_count": 42,
   "metadata": {},
   "outputs": [
    {
     "name": "stderr",
     "output_type": "stream",
     "text": [
      "  0%|          | 0/56 [00:00<?, ?it/s]"
     ]
    },
    {
     "name": "stderr",
     "output_type": "stream",
     "text": [
      "100%|██████████| 56/56 [00:01<00:00, 43.89it/s]\n"
     ]
    },
    {
     "data": {
      "text/html": [
       "<div>\n",
       "<style scoped>\n",
       "    .dataframe tbody tr th:only-of-type {\n",
       "        vertical-align: middle;\n",
       "    }\n",
       "\n",
       "    .dataframe tbody tr th {\n",
       "        vertical-align: top;\n",
       "    }\n",
       "\n",
       "    .dataframe thead th {\n",
       "        text-align: right;\n",
       "    }\n",
       "</style>\n",
       "<table border=\"1\" class=\"dataframe\">\n",
       "  <thead>\n",
       "    <tr style=\"text-align: right;\">\n",
       "      <th></th>\n",
       "      <th>0</th>\n",
       "      <th>1</th>\n",
       "      <th>2</th>\n",
       "      <th>3</th>\n",
       "      <th>4</th>\n",
       "      <th>5</th>\n",
       "      <th>6</th>\n",
       "      <th>7</th>\n",
       "      <th>8</th>\n",
       "      <th>9</th>\n",
       "      <th>...</th>\n",
       "      <th>GYR0_moving_std_w5</th>\n",
       "      <th>GYR0_lag_diff</th>\n",
       "      <th>GYR1_moving_average_w5</th>\n",
       "      <th>GYR1_derivative</th>\n",
       "      <th>GYR1_moving_std_w5</th>\n",
       "      <th>GYR1_lag_diff</th>\n",
       "      <th>GYR2_moving_average_w5</th>\n",
       "      <th>GYR2_derivative</th>\n",
       "      <th>GYR2_moving_std_w5</th>\n",
       "      <th>GYR2_lag_diff</th>\n",
       "    </tr>\n",
       "  </thead>\n",
       "  <tbody>\n",
       "    <tr>\n",
       "      <th>0</th>\n",
       "      <td>2</td>\n",
       "      <td>4</td>\n",
       "      <td>3</td>\n",
       "      <td>843</td>\n",
       "      <td>1831</td>\n",
       "      <td>1</td>\n",
       "      <td>1387</td>\n",
       "      <td>2</td>\n",
       "      <td>4</td>\n",
       "      <td>1</td>\n",
       "      <td>...</td>\n",
       "      <td>0.447214</td>\n",
       "      <td>1.0</td>\n",
       "      <td>-0.6</td>\n",
       "      <td>0.0</td>\n",
       "      <td>0.547723</td>\n",
       "      <td>0.0</td>\n",
       "      <td>0.0</td>\n",
       "      <td>0.0</td>\n",
       "      <td>0.000000</td>\n",
       "      <td>0.0</td>\n",
       "    </tr>\n",
       "    <tr>\n",
       "      <th>1</th>\n",
       "      <td>5</td>\n",
       "      <td>5</td>\n",
       "      <td>4</td>\n",
       "      <td>840</td>\n",
       "      <td>1834</td>\n",
       "      <td>0</td>\n",
       "      <td>1391</td>\n",
       "      <td>3</td>\n",
       "      <td>0</td>\n",
       "      <td>4</td>\n",
       "      <td>...</td>\n",
       "      <td>0.447214</td>\n",
       "      <td>1.0</td>\n",
       "      <td>-0.6</td>\n",
       "      <td>0.0</td>\n",
       "      <td>0.547723</td>\n",
       "      <td>0.0</td>\n",
       "      <td>0.0</td>\n",
       "      <td>0.0</td>\n",
       "      <td>0.000000</td>\n",
       "      <td>0.0</td>\n",
       "    </tr>\n",
       "    <tr>\n",
       "      <th>2</th>\n",
       "      <td>6</td>\n",
       "      <td>3</td>\n",
       "      <td>4</td>\n",
       "      <td>838</td>\n",
       "      <td>1830</td>\n",
       "      <td>3</td>\n",
       "      <td>1388</td>\n",
       "      <td>4</td>\n",
       "      <td>1</td>\n",
       "      <td>4</td>\n",
       "      <td>...</td>\n",
       "      <td>0.447214</td>\n",
       "      <td>1.0</td>\n",
       "      <td>-0.6</td>\n",
       "      <td>1.0</td>\n",
       "      <td>0.547723</td>\n",
       "      <td>0.0</td>\n",
       "      <td>0.0</td>\n",
       "      <td>0.0</td>\n",
       "      <td>0.000000</td>\n",
       "      <td>0.0</td>\n",
       "    </tr>\n",
       "    <tr>\n",
       "      <th>3</th>\n",
       "      <td>0</td>\n",
       "      <td>2</td>\n",
       "      <td>3</td>\n",
       "      <td>832</td>\n",
       "      <td>1826</td>\n",
       "      <td>1</td>\n",
       "      <td>1383</td>\n",
       "      <td>4</td>\n",
       "      <td>0</td>\n",
       "      <td>4</td>\n",
       "      <td>...</td>\n",
       "      <td>0.447214</td>\n",
       "      <td>1.0</td>\n",
       "      <td>-0.6</td>\n",
       "      <td>0.0</td>\n",
       "      <td>0.547723</td>\n",
       "      <td>0.0</td>\n",
       "      <td>0.0</td>\n",
       "      <td>0.0</td>\n",
       "      <td>0.000000</td>\n",
       "      <td>0.0</td>\n",
       "    </tr>\n",
       "    <tr>\n",
       "      <th>4</th>\n",
       "      <td>6</td>\n",
       "      <td>3</td>\n",
       "      <td>7</td>\n",
       "      <td>840</td>\n",
       "      <td>1834</td>\n",
       "      <td>2</td>\n",
       "      <td>1391</td>\n",
       "      <td>5</td>\n",
       "      <td>3</td>\n",
       "      <td>5</td>\n",
       "      <td>...</td>\n",
       "      <td>0.447214</td>\n",
       "      <td>1.0</td>\n",
       "      <td>-0.6</td>\n",
       "      <td>-1.0</td>\n",
       "      <td>0.547723</td>\n",
       "      <td>0.0</td>\n",
       "      <td>0.0</td>\n",
       "      <td>0.0</td>\n",
       "      <td>0.000000</td>\n",
       "      <td>0.0</td>\n",
       "    </tr>\n",
       "    <tr>\n",
       "      <th>...</th>\n",
       "      <td>...</td>\n",
       "      <td>...</td>\n",
       "      <td>...</td>\n",
       "      <td>...</td>\n",
       "      <td>...</td>\n",
       "      <td>...</td>\n",
       "      <td>...</td>\n",
       "      <td>...</td>\n",
       "      <td>...</td>\n",
       "      <td>...</td>\n",
       "      <td>...</td>\n",
       "      <td>...</td>\n",
       "      <td>...</td>\n",
       "      <td>...</td>\n",
       "      <td>...</td>\n",
       "      <td>...</td>\n",
       "      <td>...</td>\n",
       "      <td>...</td>\n",
       "      <td>...</td>\n",
       "      <td>...</td>\n",
       "      <td>...</td>\n",
       "    </tr>\n",
       "    <tr>\n",
       "      <th>22195</th>\n",
       "      <td>0</td>\n",
       "      <td>5</td>\n",
       "      <td>6</td>\n",
       "      <td>2793</td>\n",
       "      <td>2711</td>\n",
       "      <td>2866</td>\n",
       "      <td>2741</td>\n",
       "      <td>5</td>\n",
       "      <td>6</td>\n",
       "      <td>6</td>\n",
       "      <td>...</td>\n",
       "      <td>26.220221</td>\n",
       "      <td>29.0</td>\n",
       "      <td>-12.0</td>\n",
       "      <td>20.0</td>\n",
       "      <td>7.713624</td>\n",
       "      <td>-3.0</td>\n",
       "      <td>1.4</td>\n",
       "      <td>-29.0</td>\n",
       "      <td>10.922454</td>\n",
       "      <td>-3.0</td>\n",
       "    </tr>\n",
       "    <tr>\n",
       "      <th>22196</th>\n",
       "      <td>9</td>\n",
       "      <td>5</td>\n",
       "      <td>6</td>\n",
       "      <td>2920</td>\n",
       "      <td>2692</td>\n",
       "      <td>2896</td>\n",
       "      <td>3182</td>\n",
       "      <td>5</td>\n",
       "      <td>7</td>\n",
       "      <td>6</td>\n",
       "      <td>...</td>\n",
       "      <td>29.837895</td>\n",
       "      <td>-61.0</td>\n",
       "      <td>-12.0</td>\n",
       "      <td>-7.0</td>\n",
       "      <td>7.713624</td>\n",
       "      <td>15.0</td>\n",
       "      <td>2.8</td>\n",
       "      <td>20.0</td>\n",
       "      <td>10.986355</td>\n",
       "      <td>-21.0</td>\n",
       "    </tr>\n",
       "    <tr>\n",
       "      <th>22197</th>\n",
       "      <td>9</td>\n",
       "      <td>5</td>\n",
       "      <td>6</td>\n",
       "      <td>2963</td>\n",
       "      <td>2691</td>\n",
       "      <td>2979</td>\n",
       "      <td>3061</td>\n",
       "      <td>5</td>\n",
       "      <td>7</td>\n",
       "      <td>5</td>\n",
       "      <td>...</td>\n",
       "      <td>41.920162</td>\n",
       "      <td>-4.0</td>\n",
       "      <td>-12.6</td>\n",
       "      <td>-9.0</td>\n",
       "      <td>8.203658</td>\n",
       "      <td>-19.0</td>\n",
       "      <td>5.6</td>\n",
       "      <td>7.0</td>\n",
       "      <td>11.545562</td>\n",
       "      <td>9.0</td>\n",
       "    </tr>\n",
       "    <tr>\n",
       "      <th>22198</th>\n",
       "      <td>9</td>\n",
       "      <td>5</td>\n",
       "      <td>7</td>\n",
       "      <td>2960</td>\n",
       "      <td>2719</td>\n",
       "      <td>2962</td>\n",
       "      <td>3202</td>\n",
       "      <td>6</td>\n",
       "      <td>7</td>\n",
       "      <td>5</td>\n",
       "      <td>...</td>\n",
       "      <td>45.383918</td>\n",
       "      <td>31.0</td>\n",
       "      <td>-10.6</td>\n",
       "      <td>21.0</td>\n",
       "      <td>10.502381</td>\n",
       "      <td>-5.0</td>\n",
       "      <td>2.8</td>\n",
       "      <td>-19.0</td>\n",
       "      <td>12.477981</td>\n",
       "      <td>1.0</td>\n",
       "    </tr>\n",
       "    <tr>\n",
       "      <th>22199</th>\n",
       "      <td>8</td>\n",
       "      <td>5</td>\n",
       "      <td>6</td>\n",
       "      <td>3015</td>\n",
       "      <td>2707</td>\n",
       "      <td>2980</td>\n",
       "      <td>3314</td>\n",
       "      <td>6</td>\n",
       "      <td>6</td>\n",
       "      <td>6</td>\n",
       "      <td>...</td>\n",
       "      <td>40.369543</td>\n",
       "      <td>-71.0</td>\n",
       "      <td>-8.8</td>\n",
       "      <td>-16.0</td>\n",
       "      <td>8.408329</td>\n",
       "      <td>14.0</td>\n",
       "      <td>1.0</td>\n",
       "      <td>12.0</td>\n",
       "      <td>10.816654</td>\n",
       "      <td>-15.0</td>\n",
       "    </tr>\n",
       "  </tbody>\n",
       "</table>\n",
       "<p>118285 rows × 784 columns</p>\n",
       "</div>"
      ],
      "text/plain": [
       "       0  1  2     3     4     5     6  7  8  9  ...  GYR0_moving_std_w5   \n",
       "0      2  4  3   843  1831     1  1387  2  4  1  ...            0.447214  \\\n",
       "1      5  5  4   840  1834     0  1391  3  0  4  ...            0.447214   \n",
       "2      6  3  4   838  1830     3  1388  4  1  4  ...            0.447214   \n",
       "3      0  2  3   832  1826     1  1383  4  0  4  ...            0.447214   \n",
       "4      6  3  7   840  1834     2  1391  5  3  5  ...            0.447214   \n",
       "...   .. .. ..   ...   ...   ...   ... .. .. ..  ...                 ...   \n",
       "22195  0  5  6  2793  2711  2866  2741  5  6  6  ...           26.220221   \n",
       "22196  9  5  6  2920  2692  2896  3182  5  7  6  ...           29.837895   \n",
       "22197  9  5  6  2963  2691  2979  3061  5  7  5  ...           41.920162   \n",
       "22198  9  5  7  2960  2719  2962  3202  6  7  5  ...           45.383918   \n",
       "22199  8  5  6  3015  2707  2980  3314  6  6  6  ...           40.369543   \n",
       "\n",
       "       GYR0_lag_diff  GYR1_moving_average_w5  GYR1_derivative   \n",
       "0                1.0                    -0.6              0.0  \\\n",
       "1                1.0                    -0.6              0.0   \n",
       "2                1.0                    -0.6              1.0   \n",
       "3                1.0                    -0.6              0.0   \n",
       "4                1.0                    -0.6             -1.0   \n",
       "...              ...                     ...              ...   \n",
       "22195           29.0                   -12.0             20.0   \n",
       "22196          -61.0                   -12.0             -7.0   \n",
       "22197           -4.0                   -12.6             -9.0   \n",
       "22198           31.0                   -10.6             21.0   \n",
       "22199          -71.0                    -8.8            -16.0   \n",
       "\n",
       "       GYR1_moving_std_w5  GYR1_lag_diff  GYR2_moving_average_w5   \n",
       "0                0.547723            0.0                     0.0  \\\n",
       "1                0.547723            0.0                     0.0   \n",
       "2                0.547723            0.0                     0.0   \n",
       "3                0.547723            0.0                     0.0   \n",
       "4                0.547723            0.0                     0.0   \n",
       "...                   ...            ...                     ...   \n",
       "22195            7.713624           -3.0                     1.4   \n",
       "22196            7.713624           15.0                     2.8   \n",
       "22197            8.203658          -19.0                     5.6   \n",
       "22198           10.502381           -5.0                     2.8   \n",
       "22199            8.408329           14.0                     1.0   \n",
       "\n",
       "       GYR2_derivative  GYR2_moving_std_w5  GYR2_lag_diff  \n",
       "0                  0.0            0.000000            0.0  \n",
       "1                  0.0            0.000000            0.0  \n",
       "2                  0.0            0.000000            0.0  \n",
       "3                  0.0            0.000000            0.0  \n",
       "4                  0.0            0.000000            0.0  \n",
       "...                ...                 ...            ...  \n",
       "22195            -29.0           10.922454           -3.0  \n",
       "22196             20.0           10.986355          -21.0  \n",
       "22197              7.0           11.545562            9.0  \n",
       "22198            -19.0           12.477981            1.0  \n",
       "22199             12.0           10.816654          -15.0  \n",
       "\n",
       "[118285 rows x 784 columns]"
      ]
     },
     "execution_count": 42,
     "metadata": {},
     "output_type": "execute_result"
    }
   ],
   "source": [
    "gestures = generate_features(gestures,do_tqdm=True)\n",
    "gestures"
   ]
  },
  {
   "cell_type": "markdown",
   "metadata": {},
   "source": [
    "## Protocol"
   ]
  },
  {
   "cell_type": "code",
   "execution_count": 43,
   "metadata": {},
   "outputs": [],
   "source": [
    "def constant_shift(y,offset=20):\n",
    "    '''Смещение всего целевого признака на константное значение'''\n",
    "    return np.concatenate((np.full(offset, 0), y[:-offset]))\n",
    "\n",
    "def deriv_max_shift(X,y, window=27):\n",
    "    '''Смещение изменений целевого признака по скачку производных'''\n",
    "    X = X.copy()\n",
    "    id_max = 1\n",
    "    OMG_DERIV = [*X.filter(X.columns.map(lambda s: s if 'derivative' in s else None),axis=1).columns]\n",
    "    X['deriv_abs_sum'] = X[OMG_DERIV].abs().sum(axis=1)\n",
    "    for i in range(y.shape[0]):\n",
    "        if i < id_max: # Пропускаем все значения до id_max\n",
    "            continue\n",
    "        if y[i] != y[i-1]: # Если сменился жест то ищем в данных спереди максимальный скачок\n",
    "            id_max = X['deriv_abs_sum'][i:i+window].idxmax() # модуль производных -> сумма всех датчиков -> айди максимального значения\n",
    "            y[i:id_max] = y[i-1] # Заменяем все значения до id_max на предыдущий жест\n",
    "    return y"
   ]
  },
  {
   "cell_type": "code",
   "execution_count": 44,
   "metadata": {},
   "outputs": [],
   "source": [
    "OMG_DERIV = [*gestures.filter(gestures.columns.map(lambda s: s if 'derivative' in s else None),axis=1).columns]\n",
    "y_berofe_shift = y_cmd.copy()\n",
    "y_cmd = deriv_max_shift(gestures,y_cmd)"
   ]
  },
  {
   "cell_type": "code",
   "execution_count": 45,
   "metadata": {},
   "outputs": [
    {
     "data": {
      "application/vnd.jupyter.widget-view+json": {
       "model_id": "65bbdab6d484470b9982f944e5094036",
       "version_major": 2,
       "version_minor": 0
      },
      "image/png": "[encoded data removed]",
      "text/html": [
       "\n",
       "            <div style=\"display: inline-block;\">\n",
       "                <div class=\"jupyter-widgets widget-label\" style=\"text-align: center;\">\n",
       "                    Figure\n",
       "                </div>\n",
       "                <img src='data:image/png;base64,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' width=1000.0/>\n",
       "            </div>\n",
       "        "
      ],
      "text/plain": [
       "Canvas(toolbar=Toolbar(toolitems=[('Home', 'Reset original view', 'home', 'home'), ('Back', 'Back to previous …"
      ]
     },
     "metadata": {},
     "output_type": "display_data"
    }
   ],
   "source": [
    "# График показаний датчиков\n",
    "fig, axx = plt.subplots(4, 1, sharex=True, figsize=(10, 5))\n",
    "\n",
    "plt.sca(axx[0])\n",
    "plt.plot(gestures[OMG_CH].values)\n",
    "plt.grid()\n",
    "plt.title('OMG_CH')\n",
    "\n",
    "plt.sca(axx[1])\n",
    "plt.plot(gestures[OMG_DERIV].values)\n",
    "plt.grid()\n",
    "plt.title('OMG_DERIV')\n",
    "\n",
    "plt.sca(axx[2])\n",
    "plt.plot(y_cmd)\n",
    "plt.grid()\n",
    "plt.yticks(np.arange(len(GESTURES)), GESTURES)\n",
    "plt.title('Shifted Command')\n",
    "    \n",
    "plt.sca(axx[3])\n",
    "plt.plot(y_berofe_shift)\n",
    "plt.grid()\n",
    "plt.yticks(np.arange(len(GESTURES)), GESTURES)\n",
    "plt.title('Command')\n",
    "plt.xlabel('Timesteps')\n",
    "\n",
    "plt.suptitle('OMG and Protocol')\n",
    "plt.tight_layout()"
   ]
  },
  {
   "cell_type": "markdown",
   "metadata": {},
   "source": [
    "## Features dropout"
   ]
  },
  {
   "cell_type": "code",
   "execution_count": 46,
   "metadata": {},
   "outputs": [],
   "source": [
    "def dropout_features(df, target='command', weak_edge=0.02, strong_edge=0.95, skip=False):\n",
    "    \"\"\"Отсеивание признаков по корреляции\n",
    "\n",
    "    Args:\n",
    "        df (Dataframe): Входной Dataframe\n",
    "        target (str, optional): Целевой признак. Defaults to 'command'.\n",
    "        weak_edge (float, optional): Отсев по слабой корреляции с целевым признаком. Defaults to 0.02.\n",
    "        strong_edge (float, optional): Отсев по сильной корреляции между собой. Defaults to 0.95.\n",
    "        skip (bool, optional): Пропуск этапа отсеивания. Defaults to False.\n",
    "\n",
    "    Returns:\n",
    "        df: Очищенный от признаков Dataframe\n",
    "    \"\"\"    \n",
    "    df = df.copy()\n",
    "    if skip:\n",
    "        return df\n",
    "    df[target] = y_cmd\n",
    "    corr_df = pd.DataFrame(np.absolute(np.corrcoef(df.values, rowvar=False)), columns=df.columns)\n",
    "    \n",
    "    # Отсев по сильной корреляции признаков между собой\n",
    "    upper = corr_df.where(np.triu(np.ones(corr_df.shape), k=1).astype(bool))\n",
    "    drop_strong = [column for column in upper.columns if any(upper[column] > strong_edge) and column != target]\n",
    "    #print(f'Drop strong: {drop_strong.__len__()}')\n",
    "    \n",
    "    # Отсев по слабой корреляции признаков с таргетом\n",
    "    drop_weak = list(corr_df[corr_df <= weak_edge].T.iloc[:-1,-1].dropna().index)\n",
    "    #print(f'Drop weak: {drop_weak.__len__()}')\n",
    "    \n",
    "    df.drop(list(set(drop_weak+drop_strong))+[target],axis=1)\n",
    "    #print(f'Remained features: {df.columns.__len__()}')\n",
    "    return df"
   ]
  },
  {
   "cell_type": "code",
   "execution_count": 47,
   "metadata": {},
   "outputs": [],
   "source": [
    "gestures = dropout_features(gestures)"
   ]
  },
  {
   "cell_type": "code",
   "execution_count": 48,
   "metadata": {},
   "outputs": [],
   "source": [
    "ALL_COLS = [*gestures.columns]\n",
    "OMG_CH = [*gestures.filter(gestures.columns.map(lambda s: s if s.isdigit() else None),axis=1).columns]\n",
    "OMG_DERIV = [*gestures.filter(gestures.columns.map(lambda s: s if 'derivative' in s else None),axis=1).columns]\n",
    "ACC_CH = [*gestures.filter(gestures.columns.map(lambda s: s if 'ACC' in s else None),axis=1).columns]\n",
    "GYR_CH = [*gestures.filter(gestures.columns.map(lambda s: s if 'GYR' in s else None),axis=1).columns]\n",
    "PCT_CH = [*gestures.filter(gestures.columns.map(lambda s: s if 'pct_change' in s else None),axis=1).columns]"
   ]
  },
  {
   "cell_type": "markdown",
   "metadata": {},
   "source": [
    "# Train-test split"
   ]
  },
  {
   "cell_type": "code",
   "execution_count": 50,
   "metadata": {},
   "outputs": [],
   "source": [
    "def data_split(X,y,palm_files=None,test_datasets=[0]):\n",
    "    if type(palm_files) == str: # Если palm_files один то разделяем 1 датасет по индексу\n",
    "        # Узнаем последний индекс обучающей выборки для нужного файла\n",
    "        last_train_idx = df_meta[df_meta['montage'] == palm_files.split('/')[-1]].to_dict(orient='records')[0]['last_train_idx']\n",
    "        # Разделяем данные на обучающую и тестовую по индексу полученному с /data/meta_information.csv\n",
    "        X_train = X.values[:last_train_idx]\n",
    "        y_train = y[:last_train_idx]\n",
    "        X_test = X.values[last_train_idx:]\n",
    "        y_test = y[last_train_idx:]\n",
    "    elif type(palm_files) == list: # Если palm_files не один, то разделяем склееные датасеты на части Пример(3 датасета обучающих, 2 тестовых)\n",
    "        end_idx = 0\n",
    "        X = [*X]\n",
    "        y = [*y]\n",
    "        X_train, y_train, X_test, y_test = [], [], [], []\n",
    "        for i, palm_file in enumerate(palm_files):\n",
    "            len_palm_file = df_meta[df_meta['montage'] == palm_file[7:]][['len(train)','len(test)']].sum(axis=1).iloc[0] # Длина текущего файла\n",
    "            start_idx = end_idx # индекс старта файла\n",
    "            end_idx = start_idx + len_palm_file # индекс конца\n",
    "            if i in test_datasets: # если текущий файл тестовый\n",
    "                X_test = X_test + X[start_idx:end_idx]\n",
    "                y_test = y_test + y[start_idx:end_idx]\n",
    "            else: # иначе файл обучающий\n",
    "                X_train = X_train + X[start_idx:end_idx]\n",
    "                y_train = y_train + y[start_idx:end_idx]\n",
    "        # Заменяем списки на numpy массивы\n",
    "        X_train, y_train, X_test, y_test = np.array(X_train), np.array(y_train), np.array(X_test), np.array(y_test)\n",
    "    return X_train, y_train, X_test, y_test"
   ]
  },
  {
   "cell_type": "code",
   "execution_count": 51,
   "metadata": {},
   "outputs": [],
   "source": [
    "if type(palm_files) == str:\n",
    "    X_train, y_train, X_test, y_test = data_split(gestures, y_cmd, palm_files=palm_file)\n",
    "    print(X_train.shape, y_train.shape)\n",
    "    print(X_test.shape, y_test.shape)"
   ]
  },
  {
   "cell_type": "markdown",
   "metadata": {},
   "source": [
    "# Pipeline"
   ]
  },
  {
   "cell_type": "code",
   "execution_count": 52,
   "metadata": {},
   "outputs": [],
   "source": [
    "# Пайплайн\n",
    "def preprocess_X(X,skip_generate=False,skip_dropout=False, windows=[5], lags=range(1,10), methods_list=None, weak_edge=0.02, strong_edge=0.95):\n",
    "    '''Предобработка факторов, генерация новых признаков -> очистка по корреляции'''\n",
    "    OMG_CH = [str(i) for i in range(50)]\n",
    "    ALL_CH = OMG_CH + ['ACC0', 'ACC1', 'ACC2'] + ['GYR0', 'GYR1', 'GYR2']\n",
    "    X = X[ALL_CH]\n",
    "    X = generate_features(X, skip=skip_generate, windows=windows, lags=lags, methods_list=methods_list)\n",
    "    X = dropout_features(X, skip=skip_dropout, weak_edge=weak_edge, strong_edge=strong_edge)\n",
    "    return X\n",
    "\n",
    "def preprocess_y(X,y,offset_type='deriv_max',window=35,offset=22):\n",
    "    '''Предобработка целевого признака, декодирование -> расширение -> смещение'''\n",
    "    y = y.copy()\n",
    "    X = X.copy()\n",
    "    OMG_CH = [str(i) for i in range(50)]\n",
    "    y = encode_y(y) # Кодируем 10 признаков в 1\n",
    "    y = np.array([y['gesture'].iloc[s] for s in X['SYNC'].values]).flatten() # Расширяем признак\n",
    "    if offset_type == 'deriv_max': # Если тип смещения по максимальное производной\n",
    "        X = generate_features(X[OMG_CH],do_lags=False,methods_list=['derivative']) # Генерируем производные для смещения\n",
    "        y = deriv_max_shift(X,y,window=window) # Смещение\n",
    "    elif offset_type == 'constant': # Если тип смещения на константу\n",
    "        y = constant_shift(y,offset=offset) # Смещение\n",
    "    return y\n",
    "\n",
    "def smart_score(model,X,y):\n",
    "    '''Оценка модели с учётом дисбаланса классов'''\n",
    "    y_pred = model.predict(X)\n",
    "    return f1_score(y,y_pred,average='weighted')\n",
    "\n",
    "def leave_one_out_score(model,X,y,palm_files):\n",
    "    '''Leave one out оценка модели, разбиение по датасетам palm_file'''\n",
    "    score_list = np.array([])\n",
    "    for i, palm_file in enumerate(palm_files): # Цикл по всем датасетам\n",
    "        print(f'{i+1} / {palm_files.__len__()}') # Прогресс\n",
    "        # Разделяем данные и как тестовый указываем текущий\n",
    "        X_train, y_train, X_test, y_test = data_split(X, y, palm_files=palm_files, test_datasets=[i])\n",
    "        model.fit(X_train, y_train)  # Обучаем модель\n",
    "        score = smart_score(model,X=X_test,y=y_test) # Оцениваем модель\n",
    "        score_list = np.append(score_list,score) # Добавляем оценку в список\n",
    "    return score_list"
   ]
  },
  {
   "cell_type": "markdown",
   "metadata": {},
   "source": [
    "# Data quality"
   ]
  },
  {
   "cell_type": "code",
   "execution_count": 53,
   "metadata": {},
   "outputs": [
    {
     "data": {
      "text/plain": [
       "\" \\nd = {}\\nfor i, palm_file in tqdm(enumerate(palms_list)):\\n    y = read_y(palm_file)\\n    X = read_X(palm_file)\\n    y = preprocess_y(X,y)\\n    X = preprocess_X(X,skip_generate=True,skip_dropout=True)\\n    \\n    X_train, y_train, X_test, y_test = data_split(X, y, palm_files=palm_file)\\n    \\n    scaler = MinMaxScaler()\\n    X_train = scaler.fit_transform(X_train)\\n    X_test = scaler.transform(X_test)\\n    # Создаем модель\\n    model = LogisticRegression(\\n        solver='lbfgs', \\n        max_iter=3000\\n    )\\n    # Обучаем модель\\n    model.fit(X_train, y_train)\\n    # Оцениваем модель\\n    score = smart_score(model,X=X_test,y=y_test)\\n    d[i] = (score, palm_file)\\npd.DataFrame(d.values(),index=d.keys(),columns=['F1_score','palm_file']).sort_values(by='F1_score')\\n\""
      ]
     },
     "execution_count": 53,
     "metadata": {},
     "output_type": "execute_result"
    }
   ],
   "source": [
    "# Смотрим на качество датасетов\n",
    "''' \n",
    "d = {}\n",
    "for i, palm_file in tqdm(enumerate(palms_list)):\n",
    "    y = read_y(palm_file)\n",
    "    X = read_X(palm_file)\n",
    "    y = preprocess_y(X,y)\n",
    "    X = preprocess_X(X,skip_generate=True,skip_dropout=True)\n",
    "    \n",
    "    X_train, y_train, X_test, y_test = data_split(X, y, palm_files=palm_file)\n",
    "    \n",
    "    scaler = MinMaxScaler()\n",
    "    X_train = scaler.fit_transform(X_train)\n",
    "    X_test = scaler.transform(X_test)\n",
    "    # Создаем модель\n",
    "    model = LogisticRegression(\n",
    "        solver='lbfgs', \n",
    "        max_iter=3000\n",
    "    )\n",
    "    # Обучаем модель\n",
    "    model.fit(X_train, y_train)\n",
    "    # Оцениваем модель\n",
    "    score = smart_score(model,X=X_test,y=y_test)\n",
    "    d[i] = (score, palm_file)\n",
    "pd.DataFrame(d.values(),index=d.keys(),columns=['F1_score','palm_file']).sort_values(by='F1_score')\n",
    "'''"
   ]
  },
  {
   "cell_type": "markdown",
   "metadata": {},
   "source": [
    "# Modeling"
   ]
  },
  {
   "cell_type": "code",
   "execution_count": null,
   "metadata": {},
   "outputs": [],
   "source": [
    "palm_files = get_palm_files(pilot_id=1)\n",
    "y = read_y(palm_files)\n",
    "X = read_X(palm_files)\n",
    "y = preprocess_y(X,y)\n",
    "X = preprocess_X(X)"
   ]
  },
  {
   "cell_type": "code",
   "execution_count": 91,
   "metadata": {},
   "outputs": [
    {
     "data": {
      "application/vnd.jupyter.widget-view+json": {
       "model_id": "8bd0fe5d55d7429db0f010857799b26f",
       "version_major": 2,
       "version_minor": 0
      },
      "text/plain": [
       "  0%|          | 0/1 [00:00<?, ?it/s]"
      ]
     },
     "metadata": {},
     "output_type": "display_data"
    },
    {
     "name": "stdout",
     "output_type": "stream",
     "text": [
      "1 / 5\n",
      "2 / 5\n",
      "3 / 5\n",
      "4 / 5\n",
      "5 / 5\n"
     ]
    }
   ],
   "source": [
    "if DO_OPTUNA_SEARCH:\n",
    "    optuna.logging.set_verbosity(optuna.logging.WARNING)\n",
    "    def objective(trial): \n",
    "        global X, y\n",
    "        trial.set_user_attr(\"Palm files\", palm_files)\n",
    "        trial.set_user_attr(\"Preprocess X\", DO_X_PREPROCESS)\n",
    "        trial.set_user_attr(\"Preprocess y\", DO_Y_PREPROCESS)\n",
    "        # Задаем пространства поиска гиперпараметров\n",
    "        \n",
    "        # Предобработка данных с учетом гиперпараметров\n",
    "        if DO_X_PREPROCESS or DO_Y_PREPROCESS:\n",
    "            if DO_X_PREPROCESS:\n",
    "                X = preprocess_X(X_for_prepr)\n",
    "            if DO_Y_PREPROCESS:\n",
    "                y = preprocess_y(X_for_prepr,y_for_prepr)\n",
    "        \n",
    "        scaler = MinMaxScaler()\n",
    "        X = scaler.fit_transform(X)\n",
    "        \n",
    "        # Создаем модель\n",
    "        model = LogisticRegression(\n",
    "        max_iter=100,\n",
    "        n_jobs=-1,\n",
    "        )\n",
    "        trial.set_user_attr(\"model\", model.__str__())\n",
    "        trial.set_user_attr(\"params\", model.get_params())\n",
    "        # Оценка модели\n",
    "        if DO_KFOLD: # Оценка кросс валидацией\n",
    "            score_list = leave_one_out_score(model,X,y,palm_files)\n",
    "            score = score_list.mean()\n",
    "            trial.set_user_attr(\"Leave_One_Out score list\", str(score_list))\n",
    "        else: # Иначе просто оцениваем модель\n",
    "            X_train, y_train, X_test, y_test = data_split(X, y, palm_files=palm_files, test_datasets=[0])\n",
    "            model.fit(X_train,y_train)\n",
    "            score = smart_score(model,X_test,y_test)\n",
    "        return score\n",
    "    \n",
    "    DO_X_PREPROCESS = False\n",
    "    DO_Y_PREPROCESS = False\n",
    "    DO_KFOLD = True\n",
    "    # Загружаем данные для предобработки в подборе гиперпараметров\n",
    "    if DO_X_PREPROCESS or DO_Y_PREPROCESS: # Загружаем данные для предобработки заранее чтобы меньше нагружать в optune\n",
    "        X_for_prepr = read_X(palm_files)\n",
    "        y_for_prepr = read_y(palm_files)\n",
    "    # Создаем объект исследования\n",
    "    study = optuna.create_study(study_name=\"Тест 1триал 5датасетов пилот№1\", storage=\"sqlite:///optuna_dashboard.sqlite3\", direction=\"maximize\")\n",
    "    # Сохраняем описание исследования\n",
    "    save_note(study,textwrap.dedent(f''' ## {study.study_name}\n",
    "    5 датасетов пилота №1, 1 триал, лог.регр модель на сгенерированных признаках, оценка кфолдом, фолд датасет\n",
    "    '''))\n",
    "\n",
    "    # Ищем лучшую комбинацию гиперпараметров:\n",
    "    study.optimize(objective, n_trials=1, timeout=300, show_progress_bar=True)"
   ]
  },
  {
   "cell_type": "code",
   "execution_count": 90,
   "metadata": {},
   "outputs": [],
   "source": [
    "#optuna.delete_study(study_name='Тест',storage=\"sqlite:///optuna_dashboard.sqlite3\",)"
   ]
  },
  {
   "cell_type": "code",
   "execution_count": 169,
   "metadata": {},
   "outputs": [
    {
     "data": {
      "text/plain": [
       "{'offset_type': 'deriv_max', 'offset': 20}"
      ]
     },
     "execution_count": 169,
     "metadata": {},
     "output_type": "execute_result"
    }
   ],
   "source": [
    "study.best_params"
   ]
  },
  {
   "cell_type": "code",
   "execution_count": 170,
   "metadata": {},
   "outputs": [
    {
     "data": {
      "application/vnd.plotly.v1+json": {
       "config": {
        "plotlyServerURL": "https://plot.ly"
       },
       "data": [
        {
         "cliponaxis": false,
         "hovertemplate": [
          "offset (IntDistribution): 0.1686769042648609<extra></extra>",
          "offset_type (CategoricalDistribution): 0.8313230957351391<extra></extra>"
         ],
         "name": "Objective Value",
         "orientation": "h",
         "text": [
          "0.17",
          "0.83"
         ],
         "textposition": "outside",
         "type": "bar",
         "x": [
          0.1686769042648609,
          0.8313230957351391
         ],
         "y": [
          "offset",
          "offset_type"
         ]
        }
       ],
       "layout": {
        "template": {
         "data": {
          "bar": [
           {
            "error_x": {
             "color": "#2a3f5f"
            },
            "error_y": {
             "color": "#2a3f5f"
            },
            "marker": {
             "line": {
              "color": "#E5ECF6",
              "width": 0.5
             },
             "pattern": {
              "fillmode": "overlay",
              "size": 10,
              "solidity": 0.2
             }
            },
            "type": "bar"
           }
          ],
          "barpolar": [
           {
            "marker": {
             "line": {
              "color": "#E5ECF6",
              "width": 0.5
             },
             "pattern": {
              "fillmode": "overlay",
              "size": 10,
              "solidity": 0.2
             }
            },
            "type": "barpolar"
           }
          ],
          "carpet": [
           {
            "aaxis": {
             "endlinecolor": "#2a3f5f",
             "gridcolor": "white",
             "linecolor": "white",
             "minorgridcolor": "white",
             "startlinecolor": "#2a3f5f"
            },
            "baxis": {
             "endlinecolor": "#2a3f5f",
             "gridcolor": "white",
             "linecolor": "white",
             "minorgridcolor": "white",
             "startlinecolor": "#2a3f5f"
            },
            "type": "carpet"
           }
          ],
          "choropleth": [
           {
            "colorbar": {
             "outlinewidth": 0,
             "ticks": ""
            },
            "type": "choropleth"
           }
          ],
          "contour": [
           {
            "colorbar": {
             "outlinewidth": 0,
             "ticks": ""
            },
            "colorscale": [
             [
              0,
              "#0d0887"
             ],
             [
              0.1111111111111111,
              "#46039f"
             ],
             [
              0.2222222222222222,
              "#7201a8"
             ],
             [
              0.3333333333333333,
              "#9c179e"
             ],
             [
              0.4444444444444444,
              "#bd3786"
             ],
             [
              0.5555555555555556,
              "#d8576b"
             ],
             [
              0.6666666666666666,
              "#ed7953"
             ],
             [
              0.7777777777777778,
              "#fb9f3a"
             ],
             [
              0.8888888888888888,
              "#fdca26"
             ],
             [
              1,
              "#f0f921"
             ]
            ],
            "type": "contour"
           }
          ],
          "contourcarpet": [
           {
            "colorbar": {
             "outlinewidth": 0,
             "ticks": ""
            },
            "type": "contourcarpet"
           }
          ],
          "heatmap": [
           {
            "colorbar": {
             "outlinewidth": 0,
             "ticks": ""
            },
            "colorscale": [
             [
              0,
              "#0d0887"
             ],
             [
              0.1111111111111111,
              "#46039f"
             ],
             [
              0.2222222222222222,
              "#7201a8"
             ],
             [
              0.3333333333333333,
              "#9c179e"
             ],
             [
              0.4444444444444444,
              "#bd3786"
             ],
             [
              0.5555555555555556,
              "#d8576b"
             ],
             [
              0.6666666666666666,
              "#ed7953"
             ],
             [
              0.7777777777777778,
              "#fb9f3a"
             ],
             [
              0.8888888888888888,
              "#fdca26"
             ],
             [
              1,
              "#f0f921"
             ]
            ],
            "type": "heatmap"
           }
          ],
          "heatmapgl": [
           {
            "colorbar": {
             "outlinewidth": 0,
             "ticks": ""
            },
            "colorscale": [
             [
              0,
              "#0d0887"
             ],
             [
              0.1111111111111111,
              "#46039f"
             ],
             [
              0.2222222222222222,
              "#7201a8"
             ],
             [
              0.3333333333333333,
              "#9c179e"
             ],
             [
              0.4444444444444444,
              "#bd3786"
             ],
             [
              0.5555555555555556,
              "#d8576b"
             ],
             [
              0.6666666666666666,
              "#ed7953"
             ],
             [
              0.7777777777777778,
              "#fb9f3a"
             ],
             [
              0.8888888888888888,
              "#fdca26"
             ],
             [
              1,
              "#f0f921"
             ]
            ],
            "type": "heatmapgl"
           }
          ],
          "histogram": [
           {
            "marker": {
             "pattern": {
              "fillmode": "overlay",
              "size": 10,
              "solidity": 0.2
             }
            },
            "type": "histogram"
           }
          ],
          "histogram2d": [
           {
            "colorbar": {
             "outlinewidth": 0,
             "ticks": ""
            },
            "colorscale": [
             [
              0,
              "#0d0887"
             ],
             [
              0.1111111111111111,
              "#46039f"
             ],
             [
              0.2222222222222222,
              "#7201a8"
             ],
             [
              0.3333333333333333,
              "#9c179e"
             ],
             [
              0.4444444444444444,
              "#bd3786"
             ],
             [
              0.5555555555555556,
              "#d8576b"
             ],
             [
              0.6666666666666666,
              "#ed7953"
             ],
             [
              0.7777777777777778,
              "#fb9f3a"
             ],
             [
              0.8888888888888888,
              "#fdca26"
             ],
             [
              1,
              "#f0f921"
             ]
            ],
            "type": "histogram2d"
           }
          ],
          "histogram2dcontour": [
           {
            "colorbar": {
             "outlinewidth": 0,
             "ticks": ""
            },
            "colorscale": [
             [
              0,
              "#0d0887"
             ],
             [
              0.1111111111111111,
              "#46039f"
             ],
             [
              0.2222222222222222,
              "#7201a8"
             ],
             [
              0.3333333333333333,
              "#9c179e"
             ],
             [
              0.4444444444444444,
              "#bd3786"
             ],
             [
              0.5555555555555556,
              "#d8576b"
             ],
             [
              0.6666666666666666,
              "#ed7953"
             ],
             [
              0.7777777777777778,
              "#fb9f3a"
             ],
             [
              0.8888888888888888,
              "#fdca26"
             ],
             [
              1,
              "#f0f921"
             ]
            ],
            "type": "histogram2dcontour"
           }
          ],
          "mesh3d": [
           {
            "colorbar": {
             "outlinewidth": 0,
             "ticks": ""
            },
            "type": "mesh3d"
           }
          ],
          "parcoords": [
           {
            "line": {
             "colorbar": {
              "outlinewidth": 0,
              "ticks": ""
             }
            },
            "type": "parcoords"
           }
          ],
          "pie": [
           {
            "automargin": true,
            "type": "pie"
           }
          ],
          "scatter": [
           {
            "fillpattern": {
             "fillmode": "overlay",
             "size": 10,
             "solidity": 0.2
            },
            "type": "scatter"
           }
          ],
          "scatter3d": [
           {
            "line": {
             "colorbar": {
              "outlinewidth": 0,
              "ticks": ""
             }
            },
            "marker": {
             "colorbar": {
              "outlinewidth": 0,
              "ticks": ""
             }
            },
            "type": "scatter3d"
           }
          ],
          "scattercarpet": [
           {
            "marker": {
             "colorbar": {
              "outlinewidth": 0,
              "ticks": ""
             }
            },
            "type": "scattercarpet"
           }
          ],
          "scattergeo": [
           {
            "marker": {
             "colorbar": {
              "outlinewidth": 0,
              "ticks": ""
             }
            },
            "type": "scattergeo"
           }
          ],
          "scattergl": [
           {
            "marker": {
             "colorbar": {
              "outlinewidth": 0,
              "ticks": ""
             }
            },
            "type": "scattergl"
           }
          ],
          "scattermapbox": [
           {
            "marker": {
             "colorbar": {
              "outlinewidth": 0,
              "ticks": ""
             }
            },
            "type": "scattermapbox"
           }
          ],
          "scatterpolar": [
           {
            "marker": {
             "colorbar": {
              "outlinewidth": 0,
              "ticks": ""
             }
            },
            "type": "scatterpolar"
           }
          ],
          "scatterpolargl": [
           {
            "marker": {
             "colorbar": {
              "outlinewidth": 0,
              "ticks": ""
             }
            },
            "type": "scatterpolargl"
           }
          ],
          "scatterternary": [
           {
            "marker": {
             "colorbar": {
              "outlinewidth": 0,
              "ticks": ""
             }
            },
            "type": "scatterternary"
           }
          ],
          "surface": [
           {
            "colorbar": {
             "outlinewidth": 0,
             "ticks": ""
            },
            "colorscale": [
             [
              0,
              "#0d0887"
             ],
             [
              0.1111111111111111,
              "#46039f"
             ],
             [
              0.2222222222222222,
              "#7201a8"
             ],
             [
              0.3333333333333333,
              "#9c179e"
             ],
             [
              0.4444444444444444,
              "#bd3786"
             ],
             [
              0.5555555555555556,
              "#d8576b"
             ],
             [
              0.6666666666666666,
              "#ed7953"
             ],
             [
              0.7777777777777778,
              "#fb9f3a"
             ],
             [
              0.8888888888888888,
              "#fdca26"
             ],
             [
              1,
              "#f0f921"
             ]
            ],
            "type": "surface"
           }
          ],
          "table": [
           {
            "cells": {
             "fill": {
              "color": "#EBF0F8"
             },
             "line": {
              "color": "white"
             }
            },
            "header": {
             "fill": {
              "color": "#C8D4E3"
             },
             "line": {
              "color": "white"
             }
            },
            "type": "table"
           }
          ]
         },
         "layout": {
          "annotationdefaults": {
           "arrowcolor": "#2a3f5f",
           "arrowhead": 0,
           "arrowwidth": 1
          },
          "autotypenumbers": "strict",
          "coloraxis": {
           "colorbar": {
            "outlinewidth": 0,
            "ticks": ""
           }
          },
          "colorscale": {
           "diverging": [
            [
             0,
             "#8e0152"
            ],
            [
             0.1,
             "#c51b7d"
            ],
            [
             0.2,
             "#de77ae"
            ],
            [
             0.3,
             "#f1b6da"
            ],
            [
             0.4,
             "#fde0ef"
            ],
            [
             0.5,
             "#f7f7f7"
            ],
            [
             0.6,
             "#e6f5d0"
            ],
            [
             0.7,
             "#b8e186"
            ],
            [
             0.8,
             "#7fbc41"
            ],
            [
             0.9,
             "#4d9221"
            ],
            [
             1,
             "#276419"
            ]
           ],
           "sequential": [
            [
             0,
             "#0d0887"
            ],
            [
             0.1111111111111111,
             "#46039f"
            ],
            [
             0.2222222222222222,
             "#7201a8"
            ],
            [
             0.3333333333333333,
             "#9c179e"
            ],
            [
             0.4444444444444444,
             "#bd3786"
            ],
            [
             0.5555555555555556,
             "#d8576b"
            ],
            [
             0.6666666666666666,
             "#ed7953"
            ],
            [
             0.7777777777777778,
             "#fb9f3a"
            ],
            [
             0.8888888888888888,
             "#fdca26"
            ],
            [
             1,
             "#f0f921"
            ]
           ],
           "sequentialminus": [
            [
             0,
             "#0d0887"
            ],
            [
             0.1111111111111111,
             "#46039f"
            ],
            [
             0.2222222222222222,
             "#7201a8"
            ],
            [
             0.3333333333333333,
             "#9c179e"
            ],
            [
             0.4444444444444444,
             "#bd3786"
            ],
            [
             0.5555555555555556,
             "#d8576b"
            ],
            [
             0.6666666666666666,
             "#ed7953"
            ],
            [
             0.7777777777777778,
             "#fb9f3a"
            ],
            [
             0.8888888888888888,
             "#fdca26"
            ],
            [
             1,
             "#f0f921"
            ]
           ]
          },
          "colorway": [
           "#636efa",
           "#EF553B",
           "#00cc96",
           "#ab63fa",
           "#FFA15A",
           "#19d3f3",
           "#FF6692",
           "#B6E880",
           "#FF97FF",
           "#FECB52"
          ],
          "font": {
           "color": "#2a3f5f"
          },
          "geo": {
           "bgcolor": "white",
           "lakecolor": "white",
           "landcolor": "#E5ECF6",
           "showlakes": true,
           "showland": true,
           "subunitcolor": "white"
          },
          "hoverlabel": {
           "align": "left"
          },
          "hovermode": "closest",
          "mapbox": {
           "style": "light"
          },
          "paper_bgcolor": "white",
          "plot_bgcolor": "#E5ECF6",
          "polar": {
           "angularaxis": {
            "gridcolor": "white",
            "linecolor": "white",
            "ticks": ""
           },
           "bgcolor": "#E5ECF6",
           "radialaxis": {
            "gridcolor": "white",
            "linecolor": "white",
            "ticks": ""
           }
          },
          "scene": {
           "xaxis": {
            "backgroundcolor": "#E5ECF6",
            "gridcolor": "white",
            "gridwidth": 2,
            "linecolor": "white",
            "showbackground": true,
            "ticks": "",
            "zerolinecolor": "white"
           },
           "yaxis": {
            "backgroundcolor": "#E5ECF6",
            "gridcolor": "white",
            "gridwidth": 2,
            "linecolor": "white",
            "showbackground": true,
            "ticks": "",
            "zerolinecolor": "white"
           },
           "zaxis": {
            "backgroundcolor": "#E5ECF6",
            "gridcolor": "white",
            "gridwidth": 2,
            "linecolor": "white",
            "showbackground": true,
            "ticks": "",
            "zerolinecolor": "white"
           }
          },
          "shapedefaults": {
           "line": {
            "color": "#2a3f5f"
           }
          },
          "ternary": {
           "aaxis": {
            "gridcolor": "white",
            "linecolor": "white",
            "ticks": ""
           },
           "baxis": {
            "gridcolor": "white",
            "linecolor": "white",
            "ticks": ""
           },
           "bgcolor": "#E5ECF6",
           "caxis": {
            "gridcolor": "white",
            "linecolor": "white",
            "ticks": ""
           }
          },
          "title": {
           "x": 0.05
          },
          "xaxis": {
           "automargin": true,
           "gridcolor": "white",
           "linecolor": "white",
           "ticks": "",
           "title": {
            "standoff": 15
           },
           "zerolinecolor": "white",
           "zerolinewidth": 2
          },
          "yaxis": {
           "automargin": true,
           "gridcolor": "white",
           "linecolor": "white",
           "ticks": "",
           "title": {
            "standoff": 15
           },
           "zerolinecolor": "white",
           "zerolinewidth": 2
          }
         }
        },
        "title": {
         "text": "Hyperparameter Importances"
        },
        "xaxis": {
         "title": {
          "text": "Hyperparameter Importance"
         }
        },
        "yaxis": {
         "title": {
          "text": "Hyperparameter"
         }
        }
       }
      }
     },
     "metadata": {},
     "output_type": "display_data"
    }
   ],
   "source": [
    "if DO_OPTUNA_SEARCH:\n",
    "    param_importances = optuna.visualization.plot_param_importances(study)\n",
    "    param_importances.show()"
   ]
  },
  {
   "cell_type": "code",
   "execution_count": 171,
   "metadata": {},
   "outputs": [
    {
     "data": {
      "application/vnd.plotly.v1+json": {
       "config": {
        "plotlyServerURL": "https://plot.ly"
       },
       "data": [
        {
         "dimensions": [
          {
           "label": "Objective Value",
           "range": [
            0.8226463086573028,
            0.8987661563986904
           ],
           "values": [
            0.839220324642481,
            0.8751171671453981,
            0.8987661563986904,
            0.8226463086573028,
            0.8737734329407143,
            0.8678123452854418,
            0.8987661563986904,
            0.8647607125813959,
            0.8987661563986904,
            0.8226463086573028,
            0.8987661563986904,
            0.8987661563986904,
            0.8987661563986904,
            0.8987661563986904,
            0.8987661563986904,
            0.8987661563986904,
            0.8987661563986904,
            0.8987661563986904,
            0.8987661563986904,
            0.8987661563986904,
            0.8987661563986904,
            0.8987661563986904,
            0.8987661563986904,
            0.8987661563986904,
            0.8987661563986904,
            0.8987661563986904,
            0.8987661563986904,
            0.8987661563986904,
            0.8987661563986904,
            0.8987661563986904,
            0.8987661563986904,
            0.8987661563986904,
            0.8987661563986904,
            0.8987661563986904,
            0.8681230740750888,
            0.8737734329407143,
            0.8987661563986904,
            0.8678123452854418,
            0.8987661563986904,
            0.8713262009127208,
            0.8987661563986904,
            0.8987661563986904,
            0.8987661563986904,
            0.8987661563986904,
            0.8987661563986904,
            0.8987661563986904,
            0.8987661563986904,
            0.8750734363373572,
            0.8987661563986904,
            0.8987661563986904,
            0.8987661563986904,
            0.8987661563986904,
            0.8987661563986904,
            0.8987661563986904,
            0.8987661563986904,
            0.8987661563986904,
            0.8987661563986904,
            0.8987661563986904,
            0.8987661563986904,
            0.8987661563986904,
            0.8987661563986904,
            0.8987661563986904,
            0.8987661563986904,
            0.8987661563986904
           ]
          },
          {
           "label": "offset",
           "range": [
            15,
            27
           ],
           "values": [
            25,
            18,
            20,
            26,
            17,
            16,
            22,
            22,
            19,
            26,
            20,
            22,
            23,
            24,
            20,
            15,
            21,
            19,
            23,
            21,
            27,
            19,
            18,
            20,
            22,
            18,
            17,
            21,
            19,
            23,
            24,
            20,
            20,
            19,
            21,
            17,
            18,
            16,
            22,
            20,
            24,
            22,
            22,
            21,
            23,
            20,
            25,
            19,
            21,
            22,
            24,
            23,
            25,
            21,
            23,
            19,
            20,
            22,
            24,
            21,
            18,
            23,
            26,
            23
           ]
          },
          {
           "label": "offset_type",
           "range": [
            0,
            1
           ],
           "ticktext": [
            "constant",
            "deriv_max"
           ],
           "tickvals": [
            0,
            1
           ],
           "values": [
            0,
            0,
            1,
            0,
            0,
            0,
            1,
            0,
            1,
            0,
            1,
            1,
            1,
            1,
            1,
            1,
            1,
            1,
            1,
            1,
            1,
            1,
            1,
            1,
            1,
            1,
            1,
            1,
            1,
            1,
            1,
            1,
            1,
            1,
            0,
            0,
            1,
            0,
            1,
            0,
            1,
            1,
            1,
            1,
            1,
            1,
            1,
            0,
            1,
            1,
            1,
            1,
            1,
            1,
            1,
            1,
            1,
            1,
            1,
            1,
            1,
            1,
            1,
            1
           ]
          }
         ],
         "labelangle": 30,
         "labelside": "bottom",
         "line": {
          "color": [
           0.839220324642481,
           0.8751171671453981,
           0.8987661563986904,
           0.8226463086573028,
           0.8737734329407143,
           0.8678123452854418,
           0.8987661563986904,
           0.8647607125813959,
           0.8987661563986904,
           0.8226463086573028,
           0.8987661563986904,
           0.8987661563986904,
           0.8987661563986904,
           0.8987661563986904,
           0.8987661563986904,
           0.8987661563986904,
           0.8987661563986904,
           0.8987661563986904,
           0.8987661563986904,
           0.8987661563986904,
           0.8987661563986904,
           0.8987661563986904,
           0.8987661563986904,
           0.8987661563986904,
           0.8987661563986904,
           0.8987661563986904,
           0.8987661563986904,
           0.8987661563986904,
           0.8987661563986904,
           0.8987661563986904,
           0.8987661563986904,
           0.8987661563986904,
           0.8987661563986904,
           0.8987661563986904,
           0.8681230740750888,
           0.8737734329407143,
           0.8987661563986904,
           0.8678123452854418,
           0.8987661563986904,
           0.8713262009127208,
           0.8987661563986904,
           0.8987661563986904,
           0.8987661563986904,
           0.8987661563986904,
           0.8987661563986904,
           0.8987661563986904,
           0.8987661563986904,
           0.8750734363373572,
           0.8987661563986904,
           0.8987661563986904,
           0.8987661563986904,
           0.8987661563986904,
           0.8987661563986904,
           0.8987661563986904,
           0.8987661563986904,
           0.8987661563986904,
           0.8987661563986904,
           0.8987661563986904,
           0.8987661563986904,
           0.8987661563986904,
           0.8987661563986904,
           0.8987661563986904,
           0.8987661563986904,
           0.8987661563986904
          ],
          "colorbar": {
           "title": {
            "text": "Objective Value"
           }
          },
          "colorscale": [
           [
            0,
            "rgb(247,251,255)"
           ],
           [
            0.125,
            "rgb(222,235,247)"
           ],
           [
            0.25,
            "rgb(198,219,239)"
           ],
           [
            0.375,
            "rgb(158,202,225)"
           ],
           [
            0.5,
            "rgb(107,174,214)"
           ],
           [
            0.625,
            "rgb(66,146,198)"
           ],
           [
            0.75,
            "rgb(33,113,181)"
           ],
           [
            0.875,
            "rgb(8,81,156)"
           ],
           [
            1,
            "rgb(8,48,107)"
           ]
          ],
          "reversescale": false,
          "showscale": true
         },
         "type": "parcoords"
        }
       ],
       "layout": {
        "template": {
         "data": {
          "bar": [
           {
            "error_x": {
             "color": "#2a3f5f"
            },
            "error_y": {
             "color": "#2a3f5f"
            },
            "marker": {
             "line": {
              "color": "#E5ECF6",
              "width": 0.5
             },
             "pattern": {
              "fillmode": "overlay",
              "size": 10,
              "solidity": 0.2
             }
            },
            "type": "bar"
           }
          ],
          "barpolar": [
           {
            "marker": {
             "line": {
              "color": "#E5ECF6",
              "width": 0.5
             },
             "pattern": {
              "fillmode": "overlay",
              "size": 10,
              "solidity": 0.2
             }
            },
            "type": "barpolar"
           }
          ],
          "carpet": [
           {
            "aaxis": {
             "endlinecolor": "#2a3f5f",
             "gridcolor": "white",
             "linecolor": "white",
             "minorgridcolor": "white",
             "startlinecolor": "#2a3f5f"
            },
            "baxis": {
             "endlinecolor": "#2a3f5f",
             "gridcolor": "white",
             "linecolor": "white",
             "minorgridcolor": "white",
             "startlinecolor": "#2a3f5f"
            },
            "type": "carpet"
           }
          ],
          "choropleth": [
           {
            "colorbar": {
             "outlinewidth": 0,
             "ticks": ""
            },
            "type": "choropleth"
           }
          ],
          "contour": [
           {
            "colorbar": {
             "outlinewidth": 0,
             "ticks": ""
            },
            "colorscale": [
             [
              0,
              "#0d0887"
             ],
             [
              0.1111111111111111,
              "#46039f"
             ],
             [
              0.2222222222222222,
              "#7201a8"
             ],
             [
              0.3333333333333333,
              "#9c179e"
             ],
             [
              0.4444444444444444,
              "#bd3786"
             ],
             [
              0.5555555555555556,
              "#d8576b"
             ],
             [
              0.6666666666666666,
              "#ed7953"
             ],
             [
              0.7777777777777778,
              "#fb9f3a"
             ],
             [
              0.8888888888888888,
              "#fdca26"
             ],
             [
              1,
              "#f0f921"
             ]
            ],
            "type": "contour"
           }
          ],
          "contourcarpet": [
           {
            "colorbar": {
             "outlinewidth": 0,
             "ticks": ""
            },
            "type": "contourcarpet"
           }
          ],
          "heatmap": [
           {
            "colorbar": {
             "outlinewidth": 0,
             "ticks": ""
            },
            "colorscale": [
             [
              0,
              "#0d0887"
             ],
             [
              0.1111111111111111,
              "#46039f"
             ],
             [
              0.2222222222222222,
              "#7201a8"
             ],
             [
              0.3333333333333333,
              "#9c179e"
             ],
             [
              0.4444444444444444,
              "#bd3786"
             ],
             [
              0.5555555555555556,
              "#d8576b"
             ],
             [
              0.6666666666666666,
              "#ed7953"
             ],
             [
              0.7777777777777778,
              "#fb9f3a"
             ],
             [
              0.8888888888888888,
              "#fdca26"
             ],
             [
              1,
              "#f0f921"
             ]
            ],
            "type": "heatmap"
           }
          ],
          "heatmapgl": [
           {
            "colorbar": {
             "outlinewidth": 0,
             "ticks": ""
            },
            "colorscale": [
             [
              0,
              "#0d0887"
             ],
             [
              0.1111111111111111,
              "#46039f"
             ],
             [
              0.2222222222222222,
              "#7201a8"
             ],
             [
              0.3333333333333333,
              "#9c179e"
             ],
             [
              0.4444444444444444,
              "#bd3786"
             ],
             [
              0.5555555555555556,
              "#d8576b"
             ],
             [
              0.6666666666666666,
              "#ed7953"
             ],
             [
              0.7777777777777778,
              "#fb9f3a"
             ],
             [
              0.8888888888888888,
              "#fdca26"
             ],
             [
              1,
              "#f0f921"
             ]
            ],
            "type": "heatmapgl"
           }
          ],
          "histogram": [
           {
            "marker": {
             "pattern": {
              "fillmode": "overlay",
              "size": 10,
              "solidity": 0.2
             }
            },
            "type": "histogram"
           }
          ],
          "histogram2d": [
           {
            "colorbar": {
             "outlinewidth": 0,
             "ticks": ""
            },
            "colorscale": [
             [
              0,
              "#0d0887"
             ],
             [
              0.1111111111111111,
              "#46039f"
             ],
             [
              0.2222222222222222,
              "#7201a8"
             ],
             [
              0.3333333333333333,
              "#9c179e"
             ],
             [
              0.4444444444444444,
              "#bd3786"
             ],
             [
              0.5555555555555556,
              "#d8576b"
             ],
             [
              0.6666666666666666,
              "#ed7953"
             ],
             [
              0.7777777777777778,
              "#fb9f3a"
             ],
             [
              0.8888888888888888,
              "#fdca26"
             ],
             [
              1,
              "#f0f921"
             ]
            ],
            "type": "histogram2d"
           }
          ],
          "histogram2dcontour": [
           {
            "colorbar": {
             "outlinewidth": 0,
             "ticks": ""
            },
            "colorscale": [
             [
              0,
              "#0d0887"
             ],
             [
              0.1111111111111111,
              "#46039f"
             ],
             [
              0.2222222222222222,
              "#7201a8"
             ],
             [
              0.3333333333333333,
              "#9c179e"
             ],
             [
              0.4444444444444444,
              "#bd3786"
             ],
             [
              0.5555555555555556,
              "#d8576b"
             ],
             [
              0.6666666666666666,
              "#ed7953"
             ],
             [
              0.7777777777777778,
              "#fb9f3a"
             ],
             [
              0.8888888888888888,
              "#fdca26"
             ],
             [
              1,
              "#f0f921"
             ]
            ],
            "type": "histogram2dcontour"
           }
          ],
          "mesh3d": [
           {
            "colorbar": {
             "outlinewidth": 0,
             "ticks": ""
            },
            "type": "mesh3d"
           }
          ],
          "parcoords": [
           {
            "line": {
             "colorbar": {
              "outlinewidth": 0,
              "ticks": ""
             }
            },
            "type": "parcoords"
           }
          ],
          "pie": [
           {
            "automargin": true,
            "type": "pie"
           }
          ],
          "scatter": [
           {
            "fillpattern": {
             "fillmode": "overlay",
             "size": 10,
             "solidity": 0.2
            },
            "type": "scatter"
           }
          ],
          "scatter3d": [
           {
            "line": {
             "colorbar": {
              "outlinewidth": 0,
              "ticks": ""
             }
            },
            "marker": {
             "colorbar": {
              "outlinewidth": 0,
              "ticks": ""
             }
            },
            "type": "scatter3d"
           }
          ],
          "scattercarpet": [
           {
            "marker": {
             "colorbar": {
              "outlinewidth": 0,
              "ticks": ""
             }
            },
            "type": "scattercarpet"
           }
          ],
          "scattergeo": [
           {
            "marker": {
             "colorbar": {
              "outlinewidth": 0,
              "ticks": ""
             }
            },
            "type": "scattergeo"
           }
          ],
          "scattergl": [
           {
            "marker": {
             "colorbar": {
              "outlinewidth": 0,
              "ticks": ""
             }
            },
            "type": "scattergl"
           }
          ],
          "scattermapbox": [
           {
            "marker": {
             "colorbar": {
              "outlinewidth": 0,
              "ticks": ""
             }
            },
            "type": "scattermapbox"
           }
          ],
          "scatterpolar": [
           {
            "marker": {
             "colorbar": {
              "outlinewidth": 0,
              "ticks": ""
             }
            },
            "type": "scatterpolar"
           }
          ],
          "scatterpolargl": [
           {
            "marker": {
             "colorbar": {
              "outlinewidth": 0,
              "ticks": ""
             }
            },
            "type": "scatterpolargl"
           }
          ],
          "scatterternary": [
           {
            "marker": {
             "colorbar": {
              "outlinewidth": 0,
              "ticks": ""
             }
            },
            "type": "scatterternary"
           }
          ],
          "surface": [
           {
            "colorbar": {
             "outlinewidth": 0,
             "ticks": ""
            },
            "colorscale": [
             [
              0,
              "#0d0887"
             ],
             [
              0.1111111111111111,
              "#46039f"
             ],
             [
              0.2222222222222222,
              "#7201a8"
             ],
             [
              0.3333333333333333,
              "#9c179e"
             ],
             [
              0.4444444444444444,
              "#bd3786"
             ],
             [
              0.5555555555555556,
              "#d8576b"
             ],
             [
              0.6666666666666666,
              "#ed7953"
             ],
             [
              0.7777777777777778,
              "#fb9f3a"
             ],
             [
              0.8888888888888888,
              "#fdca26"
             ],
             [
              1,
              "#f0f921"
             ]
            ],
            "type": "surface"
           }
          ],
          "table": [
           {
            "cells": {
             "fill": {
              "color": "#EBF0F8"
             },
             "line": {
              "color": "white"
             }
            },
            "header": {
             "fill": {
              "color": "#C8D4E3"
             },
             "line": {
              "color": "white"
             }
            },
            "type": "table"
           }
          ]
         },
         "layout": {
          "annotationdefaults": {
           "arrowcolor": "#2a3f5f",
           "arrowhead": 0,
           "arrowwidth": 1
          },
          "autotypenumbers": "strict",
          "coloraxis": {
           "colorbar": {
            "outlinewidth": 0,
            "ticks": ""
           }
          },
          "colorscale": {
           "diverging": [
            [
             0,
             "#8e0152"
            ],
            [
             0.1,
             "#c51b7d"
            ],
            [
             0.2,
             "#de77ae"
            ],
            [
             0.3,
             "#f1b6da"
            ],
            [
             0.4,
             "#fde0ef"
            ],
            [
             0.5,
             "#f7f7f7"
            ],
            [
             0.6,
             "#e6f5d0"
            ],
            [
             0.7,
             "#b8e186"
            ],
            [
             0.8,
             "#7fbc41"
            ],
            [
             0.9,
             "#4d9221"
            ],
            [
             1,
             "#276419"
            ]
           ],
           "sequential": [
            [
             0,
             "#0d0887"
            ],
            [
             0.1111111111111111,
             "#46039f"
            ],
            [
             0.2222222222222222,
             "#7201a8"
            ],
            [
             0.3333333333333333,
             "#9c179e"
            ],
            [
             0.4444444444444444,
             "#bd3786"
            ],
            [
             0.5555555555555556,
             "#d8576b"
            ],
            [
             0.6666666666666666,
             "#ed7953"
            ],
            [
             0.7777777777777778,
             "#fb9f3a"
            ],
            [
             0.8888888888888888,
             "#fdca26"
            ],
            [
             1,
             "#f0f921"
            ]
           ],
           "sequentialminus": [
            [
             0,
             "#0d0887"
            ],
            [
             0.1111111111111111,
             "#46039f"
            ],
            [
             0.2222222222222222,
             "#7201a8"
            ],
            [
             0.3333333333333333,
             "#9c179e"
            ],
            [
             0.4444444444444444,
             "#bd3786"
            ],
            [
             0.5555555555555556,
             "#d8576b"
            ],
            [
             0.6666666666666666,
             "#ed7953"
            ],
            [
             0.7777777777777778,
             "#fb9f3a"
            ],
            [
             0.8888888888888888,
             "#fdca26"
            ],
            [
             1,
             "#f0f921"
            ]
           ]
          },
          "colorway": [
           "#636efa",
           "#EF553B",
           "#00cc96",
           "#ab63fa",
           "#FFA15A",
           "#19d3f3",
           "#FF6692",
           "#B6E880",
           "#FF97FF",
           "#FECB52"
          ],
          "font": {
           "color": "#2a3f5f"
          },
          "geo": {
           "bgcolor": "white",
           "lakecolor": "white",
           "landcolor": "#E5ECF6",
           "showlakes": true,
           "showland": true,
           "subunitcolor": "white"
          },
          "hoverlabel": {
           "align": "left"
          },
          "hovermode": "closest",
          "mapbox": {
           "style": "light"
          },
          "paper_bgcolor": "white",
          "plot_bgcolor": "#E5ECF6",
          "polar": {
           "angularaxis": {
            "gridcolor": "white",
            "linecolor": "white",
            "ticks": ""
           },
           "bgcolor": "#E5ECF6",
           "radialaxis": {
            "gridcolor": "white",
            "linecolor": "white",
            "ticks": ""
           }
          },
          "scene": {
           "xaxis": {
            "backgroundcolor": "#E5ECF6",
            "gridcolor": "white",
            "gridwidth": 2,
            "linecolor": "white",
            "showbackground": true,
            "ticks": "",
            "zerolinecolor": "white"
           },
           "yaxis": {
            "backgroundcolor": "#E5ECF6",
            "gridcolor": "white",
            "gridwidth": 2,
            "linecolor": "white",
            "showbackground": true,
            "ticks": "",
            "zerolinecolor": "white"
           },
           "zaxis": {
            "backgroundcolor": "#E5ECF6",
            "gridcolor": "white",
            "gridwidth": 2,
            "linecolor": "white",
            "showbackground": true,
            "ticks": "",
            "zerolinecolor": "white"
           }
          },
          "shapedefaults": {
           "line": {
            "color": "#2a3f5f"
           }
          },
          "ternary": {
           "aaxis": {
            "gridcolor": "white",
            "linecolor": "white",
            "ticks": ""
           },
           "baxis": {
            "gridcolor": "white",
            "linecolor": "white",
            "ticks": ""
           },
           "bgcolor": "#E5ECF6",
           "caxis": {
            "gridcolor": "white",
            "linecolor": "white",
            "ticks": ""
           }
          },
          "title": {
           "x": 0.05
          },
          "xaxis": {
           "automargin": true,
           "gridcolor": "white",
           "linecolor": "white",
           "ticks": "",
           "title": {
            "standoff": 15
           },
           "zerolinecolor": "white",
           "zerolinewidth": 2
          },
          "yaxis": {
           "automargin": true,
           "gridcolor": "white",
           "linecolor": "white",
           "ticks": "",
           "title": {
            "standoff": 15
           },
           "zerolinecolor": "white",
           "zerolinewidth": 2
          }
         }
        },
        "title": {
         "text": "Parallel Coordinate Plot"
        }
       }
      }
     },
     "metadata": {},
     "output_type": "display_data"
    }
   ],
   "source": [
    "if DO_OPTUNA_SEARCH:\n",
    "    parallel_coordinate = optuna.visualization.plot_parallel_coordinate(study)\n",
    "    parallel_coordinate.show()"
   ]
  },
  {
   "cell_type": "code",
   "execution_count": 230,
   "metadata": {
    "tags": []
   },
   "outputs": [
    {
     "data": {
      "text/html": [
       "<style>#sk-container-id-6 {color: black;}#sk-container-id-6 pre{padding: 0;}#sk-container-id-6 div.sk-toggleable {background-color: white;}#sk-container-id-6 label.sk-toggleable__label {cursor: pointer;display: block;width: 100%;margin-bottom: 0;padding: 0.3em;box-sizing: border-box;text-align: center;}#sk-container-id-6 label.sk-toggleable__label-arrow:before {content: \"▸\";float: left;margin-right: 0.25em;color: #696969;}#sk-container-id-6 label.sk-toggleable__label-arrow:hover:before {color: black;}#sk-container-id-6 div.sk-estimator:hover label.sk-toggleable__label-arrow:before {color: black;}#sk-container-id-6 div.sk-toggleable__content {max-height: 0;max-width: 0;overflow: hidden;text-align: left;background-color: #f0f8ff;}#sk-container-id-6 div.sk-toggleable__content pre {margin: 0.2em;color: black;border-radius: 0.25em;background-color: #f0f8ff;}#sk-container-id-6 input.sk-toggleable__control:checked~div.sk-toggleable__content {max-height: 200px;max-width: 100%;overflow: auto;}#sk-container-id-6 input.sk-toggleable__control:checked~label.sk-toggleable__label-arrow:before {content: \"▾\";}#sk-container-id-6 div.sk-estimator input.sk-toggleable__control:checked~label.sk-toggleable__label {background-color: #d4ebff;}#sk-container-id-6 div.sk-label input.sk-toggleable__control:checked~label.sk-toggleable__label {background-color: #d4ebff;}#sk-container-id-6 input.sk-hidden--visually {border: 0;clip: rect(1px 1px 1px 1px);clip: rect(1px, 1px, 1px, 1px);height: 1px;margin: -1px;overflow: hidden;padding: 0;position: absolute;width: 1px;}#sk-container-id-6 div.sk-estimator {font-family: monospace;background-color: #f0f8ff;border: 1px dotted black;border-radius: 0.25em;box-sizing: border-box;margin-bottom: 0.5em;}#sk-container-id-6 div.sk-estimator:hover {background-color: #d4ebff;}#sk-container-id-6 div.sk-parallel-item::after {content: \"\";width: 100%;border-bottom: 1px solid gray;flex-grow: 1;}#sk-container-id-6 div.sk-label:hover label.sk-toggleable__label {background-color: #d4ebff;}#sk-container-id-6 div.sk-serial::before {content: \"\";position: absolute;border-left: 1px solid gray;box-sizing: border-box;top: 0;bottom: 0;left: 50%;z-index: 0;}#sk-container-id-6 div.sk-serial {display: flex;flex-direction: column;align-items: center;background-color: white;padding-right: 0.2em;padding-left: 0.2em;position: relative;}#sk-container-id-6 div.sk-item {position: relative;z-index: 1;}#sk-container-id-6 div.sk-parallel {display: flex;align-items: stretch;justify-content: center;background-color: white;position: relative;}#sk-container-id-6 div.sk-item::before, #sk-container-id-6 div.sk-parallel-item::before {content: \"\";position: absolute;border-left: 1px solid gray;box-sizing: border-box;top: 0;bottom: 0;left: 50%;z-index: -1;}#sk-container-id-6 div.sk-parallel-item {display: flex;flex-direction: column;z-index: 1;position: relative;background-color: white;}#sk-container-id-6 div.sk-parallel-item:first-child::after {align-self: flex-end;width: 50%;}#sk-container-id-6 div.sk-parallel-item:last-child::after {align-self: flex-start;width: 50%;}#sk-container-id-6 div.sk-parallel-item:only-child::after {width: 0;}#sk-container-id-6 div.sk-dashed-wrapped {border: 1px dashed gray;margin: 0 0.4em 0.5em 0.4em;box-sizing: border-box;padding-bottom: 0.4em;background-color: white;}#sk-container-id-6 div.sk-label label {font-family: monospace;font-weight: bold;display: inline-block;line-height: 1.2em;}#sk-container-id-6 div.sk-label-container {text-align: center;}#sk-container-id-6 div.sk-container {/* jupyter's `normalize.less` sets `[hidden] { display: none; }` but bootstrap.min.css set `[hidden] { display: none !important; }` so we also need the `!important` here to be able to override the default hidden behavior on the sphinx rendered scikit-learn.org. See: https://github.com/scikit-learn/scikit-learn/issues/21755 */display: inline-block !important;position: relative;}#sk-container-id-6 div.sk-text-repr-fallback {display: none;}</style><div id=\"sk-container-id-6\" class=\"sk-top-container\"><div class=\"sk-text-repr-fallback\"><pre>LogisticRegression(class_weight={0: 1, 1: 1, 2: 1, 3: 10, 4: 1, 5: 1},\n",
       "                   max_iter=5000)</pre><b>In a Jupyter environment, please rerun this cell to show the HTML representation or trust the notebook. <br />On GitHub, the HTML representation is unable to render, please try loading this page with nbviewer.org.</b></div><div class=\"sk-container\" hidden><div class=\"sk-item\"><div class=\"sk-estimator sk-toggleable\"><input class=\"sk-toggleable__control sk-hidden--visually\" id=\"sk-estimator-id-6\" type=\"checkbox\" checked><label for=\"sk-estimator-id-6\" class=\"sk-toggleable__label sk-toggleable__label-arrow\">LogisticRegression</label><div class=\"sk-toggleable__content\"><pre>LogisticRegression(class_weight={0: 1, 1: 1, 2: 1, 3: 10, 4: 1, 5: 1},\n",
       "                   max_iter=5000)</pre></div></div></div></div></div>"
      ],
      "text/plain": [
       "LogisticRegression(class_weight={0: 1, 1: 1, 2: 1, 3: 10, 4: 1, 5: 1},\n",
       "                   max_iter=5000)"
      ]
     },
     "execution_count": 230,
     "metadata": {},
     "output_type": "execute_result"
    }
   ],
   "source": [
    "# Создаем итоговую модель\n",
    "if model_name != None:\n",
    "    model = model_name(**best)\n",
    "    \n",
    "model.fit(X=X_train, y=y_train)"
   ]
  },
  {
   "cell_type": "code",
   "execution_count": 231,
   "metadata": {},
   "outputs": [
    {
     "name": "stdout",
     "output_type": "stream",
     "text": [
      "              precision    recall  f1-score   support\n",
      "\n",
      "           0       0.98      0.96      0.97     10615\n",
      "           1       0.98      0.94      0.96       987\n",
      "           2       0.95      0.91      0.93       933\n",
      "           3       0.71      0.99      0.82      1011\n",
      "           4       0.97      0.85      0.91      1057\n",
      "           5       0.99      1.00      0.99      1076\n",
      "\n",
      "    accuracy                           0.95     15679\n",
      "   macro avg       0.93      0.94      0.93     15679\n",
      "weighted avg       0.96      0.95      0.96     15679\n",
      "\n",
      "              precision    recall  f1-score   support\n",
      "\n",
      "           0       0.97      0.92      0.94      2593\n",
      "           1       0.96      0.90      0.93       251\n",
      "           2       0.88      0.96      0.92       277\n",
      "           3       0.65      0.84      0.73       262\n",
      "           4       0.71      0.95      0.81       239\n",
      "           5       0.97      0.93      0.95       267\n",
      "\n",
      "    accuracy                           0.92      3889\n",
      "   macro avg       0.86      0.92      0.88      3889\n",
      "weighted avg       0.93      0.92      0.92      3889\n",
      "\n"
     ]
    }
   ],
   "source": [
    "y_pred_train = model.predict(X_train)\n",
    "y_pred_test = model.predict(X_test)\n",
    "\n",
    "print(classification_report(y_train, y_pred_train))\n",
    "print(classification_report(y_test, y_pred_test))"
   ]
  },
  {
   "cell_type": "code",
   "execution_count": null,
   "metadata": {},
   "outputs": [],
   "source": [
    "draw_confusion_matrix(model,X_test,y_test)"
   ]
  },
  {
   "cell_type": "code",
   "execution_count": 232,
   "metadata": {},
   "outputs": [],
   "source": [
    "# Функция построения графика кривой обучения\n",
    "def plot_learning_curve(model, X, y, cv=4, scoring=\"f1_micro\"):\n",
    "    # Вычисляем координаты для построения кривой обучения\n",
    "    skf = StratifiedKFold(n_splits=cv, shuffle=True) # кросс валидация\n",
    "    train_sizes, train_scores, valid_scores = learning_curve(\n",
    "        estimator=model,  # модель\n",
    "        X=X,  # матрица наблюдений X\n",
    "        y=y,  # вектор ответов y\n",
    "        cv=skf, # кросс валидатор\n",
    "        scoring=scoring,  # метрика\n",
    "        train_sizes=np.linspace(0.05,1,10), # Кол-во разбиений\n",
    "    )\n",
    "    display = LearningCurveDisplay(train_sizes=train_sizes,train_scores=train_scores,test_scores=valid_scores,score_name=scoring)\n",
    "    display.plot()\n",
    "    plt.title('Learning Curve')\n",
    "    plt.yticks(np.arange(0,1.05,0.05))\n",
    "    plt.grid()\n",
    "    plt.show()\n",
    "    return display\n",
    "if DO_PLOT_LEARNING_CURVE:\n",
    "    learn_curve_plot = plot_learning_curve(model,X_train,y_train)"
   ]
  },
  {
   "cell_type": "markdown",
   "metadata": {},
   "source": [
    "## Prediction"
   ]
  },
  {
   "cell_type": "code",
   "execution_count": 233,
   "metadata": {
    "tags": []
   },
   "outputs": [],
   "source": [
    "y_pred_train = model.predict(X_train)\n",
    "y_pred_test = model.predict(X_test)"
   ]
  },
  {
   "cell_type": "code",
   "execution_count": 234,
   "metadata": {
    "tags": []
   },
   "outputs": [],
   "source": [
    "if DO_DRAW_PLOTS:\n",
    "    # График истинных и предсказанных значений таргета в тренировочных данных\n",
    "    fig = plt.figure(figsize=(10, 4))\n",
    "    plt.plot(y_train,  c='C0', label='y_true')\n",
    "    plt.plot(y_pred_train, c='C1', label='y_pred')\n",
    "    \n",
    "    plt.yticks(np.arange(len(GESTURES)), GESTURES)\n",
    "    plt.grid()\n",
    "    plt.xlabel('Timesteps')\n",
    "    plt.legend()\n",
    "    plt.title('Train')\n",
    "    plt.tight_layout()"
   ]
  },
  {
   "cell_type": "code",
   "execution_count": 235,
   "metadata": {},
   "outputs": [],
   "source": [
    "if DO_DRAW_PLOTS:\n",
    "    # График истинных и предсказанных значений таргета в тестовых данных\n",
    "    fig = plt.figure(figsize=(10, 4))\n",
    "    plt.plot(y_test,  c='C0', label='y_true')\n",
    "    plt.plot(y_pred_test, c='C1', label='y_pred')\n",
    "    \n",
    "    plt.yticks(np.arange(len(GESTURES)), GESTURES)\n",
    "    plt.grid()\n",
    "    plt.xlabel('Timesteps')\n",
    "    plt.legend()\n",
    "    plt.title('Test')\n",
    "    plt.tight_layout()"
   ]
  },
  {
   "cell_type": "markdown",
   "metadata": {},
   "source": [
    "## Metrics"
   ]
  },
  {
   "cell_type": "code",
   "execution_count": 236,
   "metadata": {
    "tags": []
   },
   "outputs": [
    {
     "name": "stdout",
     "output_type": "stream",
     "text": [
      "========================= Train =========================\n",
      "              precision    recall  f1-score   support\n",
      "\n",
      "     Neutral       0.98      0.96      0.97     10615\n",
      "        Open       0.98      0.94      0.96       987\n",
      "      Pistol       0.95      0.91      0.93       933\n",
      "       Thumb       0.71      0.99      0.82      1011\n",
      "          OK       0.97      0.85      0.91      1057\n",
      "        Grab       0.99      1.00      0.99      1076\n",
      "\n",
      "    accuracy                           0.95     15679\n",
      "   macro avg       0.93      0.94      0.93     15679\n",
      "weighted avg       0.96      0.95      0.96     15679\n",
      "\n",
      "========================= Test =========================\n",
      "              precision    recall  f1-score   support\n",
      "\n",
      "     Neutral       0.97      0.92      0.94      2593\n",
      "        Open       0.96      0.90      0.93       251\n",
      "      Pistol       0.88      0.96      0.92       277\n",
      "       Thumb       0.65      0.84      0.73       262\n",
      "          OK       0.71      0.95      0.81       239\n",
      "        Grab       0.97      0.93      0.95       267\n",
      "\n",
      "    accuracy                           0.92      3889\n",
      "   macro avg       0.86      0.92      0.88      3889\n",
      "weighted avg       0.93      0.92      0.92      3889\n",
      "\n"
     ]
    }
   ],
   "source": [
    "print_report()"
   ]
  },
  {
   "cell_type": "markdown",
   "metadata": {},
   "source": [
    "# Real-time inference"
   ]
  },
  {
   "cell_type": "code",
   "execution_count": 237,
   "metadata": {
    "tags": []
   },
   "outputs": [],
   "source": [
    "crc_table = [\n",
    "    54, 181, 83, 241, 89, 16, 164, 217, 34, 169, 220, 160, 11, 252,\n",
    "    111, 241, 33, 70, 99, 240, 234, 215, 60, 206, 68, 126, 152, 81,\n",
    "    113, 187, 14, 21, 164, 172, 251, 16, 248, 215, 236, 90, 49, 53,\n",
    "    179, 156, 101, 55, 65, 130, 161, 22, 218, 79, 24, 168, 152, 205,\n",
    "    115, 141, 23, 86, 141, 58, 122, 215, 252, 48, 69, 115, 138, 66,\n",
    "    88, 37, 63, 104, 176, 46, 139, 246, 222, 184, 103, 92, 154, 174,\n",
    "    97, 141, 195, 166, 227, 150, 140, 48, 121, 243, 13, 131, 210, 199,\n",
    "    45, 75, 180, 104, 97, 82, 251, 90, 132, 111, 229, 175, 146, 216,\n",
    "    153, 86, 166, 33, 184, 100, 225, 248, 186, 54, 89, 39, 2, 214, 2,\n",
    "    114, 197, 6, 35, 188, 245, 64, 220, 37, 123, 132, 190, 60, 189, 53,\n",
    "    215, 185, 238, 145, 99, 226, 79, 54, 102, 118, 210, 116, 51, 247,\n",
    "    0, 191, 42, 45, 2, 132, 106, 52, 63, 159, 229, 157, 78, 165, 50,\n",
    "    18, 108, 193, 166, 253, 3, 243, 126, 111, 199, 152, 36, 114, 147,\n",
    "    57, 87, 14, 16, 160, 128, 97, 189, 51, 115, 142, 8, 70, 71, 55, 42,\n",
    "    193, 65, 207, 122, 158, 26, 21, 72, 139, 33, 230, 230, 116, 134, 5,\n",
    "    213, 165, 107, 41, 134, 219, 190, 26, 29, 136, 174, 190, 108, 185, 172,\n",
    "    137, 239, 164, 208, 207, 206, 98, 207, 12, 0, 174, 64, 20, 90, 49, 12,\n",
    "    67, 112, 109, 78, 114, 165, 244, 183, 121\n",
    "];\n",
    "    \n",
    "def get_crc(data, count):\n",
    "    result = 0x00\n",
    "    l = count\n",
    "    while (count>0):   \n",
    "        result = crc_table[result ^ data[l-count]]\n",
    "        count -= 1;\n",
    "    return result;\n",
    "\n",
    "def drv_abs_one(ser, control):\n",
    "    if ser is None:\n",
    "        return\n",
    "    pack = (np.array([80, 0x01, 0xBB, 6] + [c for c in control] + [0], dtype='uint8'))\n",
    "    pack[-1] = get_crc(pack[1:], 9)\n",
    "    return (pack, ser.write(bytearray(pack)))"
   ]
  },
  {
   "cell_type": "markdown",
   "metadata": {},
   "source": [
    "## Inference Utils: Put your code here"
   ]
  },
  {
   "cell_type": "code",
   "execution_count": 238,
   "metadata": {
    "tags": []
   },
   "outputs": [],
   "source": [
    "def preprocessing(x): # Предобработка входных данных\n",
    "    # x - sample vector\n",
    "    y = x\n",
    "    return y\n",
    "\n",
    "def inference(x): # Предикт модели на данных\n",
    "    y = model.predict([x])\n",
    "    return y\n",
    "\n",
    "def postprocessing(x, prev): # Постобработка результатов модели, сглаживаем с предыдущим предиктом\n",
    "    if prev is None:\n",
    "        y = x\n",
    "    else:\n",
    "        y = x*0.1 + prev*0.9 # Holt-Winters filter\n",
    "    return y\n",
    "\n",
    "def commands(x):\n",
    "    y = np.round(np.clip(x / 100, 0, 1)*100).astype(int)\n",
    "    return y"
   ]
  },
  {
   "cell_type": "markdown",
   "metadata": {},
   "source": [
    "## Inference"
   ]
  },
  {
   "cell_type": "markdown",
   "metadata": {},
   "source": [
    "### Offline (dataset)"
   ]
  },
  {
   "cell_type": "code",
   "execution_count": 239,
   "metadata": {
    "tags": []
   },
   "outputs": [
    {
     "name": "stdout",
     "output_type": "stream",
     "text": [
      "(3889, 290)\n"
     ]
    }
   ],
   "source": [
    "if DO_OFFLINE_INFERENCE:\n",
    "    df_sim = gestures.iloc[last_train_idx:]\n",
    "    print(df_sim.shape)"
   ]
  },
  {
   "cell_type": "code",
   "execution_count": 240,
   "metadata": {
    "tags": []
   },
   "outputs": [],
   "source": [
    "if DO_OFFLINE_INFERENCE:\n",
    "    TIMEOUT = 0.033\n",
    "    DEBUG = False\n",
    "\n",
    "    i = 0\n",
    "    ts_old = time.time()\n",
    "    ts_diff = 0;\n",
    "    ts_list = []\n",
    "\n",
    "    y_previous = None\n",
    "    y_dct = {\n",
    "        'omg_sample':[],\n",
    "        'enc_sample':[],\n",
    "        'sample_preprocessed':[],\n",
    "\n",
    "        'y_predicted':[],\n",
    "        'y_postprocessed':[],\n",
    "        'y_commands':[],\n",
    "    }\n",
    "    while True:    \n",
    "\n",
    "        # [Data reading]\n",
    "        ts_start = time.time()\n",
    "\n",
    "        try:\n",
    "            # [Sim data]\n",
    "            if i < len(df_sim):\n",
    "                sample = df_sim.values[i]\n",
    "            else:\n",
    "                break\n",
    "            # [/Sim data]\n",
    "            [omg_sample, acc_sample, enc_sample, [button, sync, ts]] = np.array_split(sample, [ALL_CH.__len__()])\n",
    "\n",
    "        except Exception as e:\n",
    "            print(e)\n",
    "        # [/Data Reading]\n",
    "\n",
    "        # [Data preprocessing]\n",
    "        sample_preprocessed = preprocessing(omg_sample)\n",
    "        # [/Data preprocessing]\n",
    "\n",
    "        # [Inference]\n",
    "        y_predicted         = inference(sample_preprocessed)\n",
    "        # [/Inference]\n",
    "\n",
    "        # [Inference Postprocessing]\n",
    "        y_postprocessed     = postprocessing(y_predicted, y_previous)\n",
    "        # [/Inference Postprocessing]\n",
    "\n",
    "        # [Commands composition]\n",
    "        y_commands          = commands(y_postprocessed)\n",
    "        # [/Commands composition]\n",
    "\n",
    "        # [Commands sending]\n",
    "        # NO COMMANDS SENDING IN SIMULATION\n",
    "        # [/Commands sending]\n",
    "\n",
    "        # [Data logging]\n",
    "        y_dct['omg_sample'].append(omg_sample)\n",
    "        y_dct['enc_sample'].append(enc_sample)\n",
    "        y_dct['sample_preprocessed'].append(sample_preprocessed)\n",
    "        y_dct['y_predicted'].append(y_predicted)\n",
    "        y_dct['y_postprocessed'].append(y_postprocessed)\n",
    "        y_dct['y_commands'].append(y_commands)\n",
    "        # [/Data logging]\n",
    "\n",
    "        y_previous = y_postprocessed\n",
    "\n",
    "        if DEBUG:\n",
    "            clear_output(wait=True)\n",
    "\n",
    "            # sanity check: Sizes of SAMPLE=65, OMG=50, ACC=6, ENCODERS=6\n",
    "            print(f'SAMPLE SIZE: {len(sample)}, OMG: {len(omg_sample)}, ACC: {len(acc_sample)}, ENCODERS: {len(enc_sample)}')\n",
    "            print(f'BUTTON: {button}, SYNC: {sync}, TS: {ts}')\n",
    "            print(y_commands)\n",
    "\n",
    "        # Считаем время выполнение инференса\n",
    "        ts_diff = time.time() - ts_start\n",
    "\n",
    "        ts_list.append(ts_diff)\n",
    "        ts_old = ts_start\n",
    "        i += 1 \n",
    "\n",
    "    ts_mean = np.array(ts_list).mean()\n",
    "    ts_max = np.array(ts_list).max()\n",
    "    if ts_max > TIMEOUT:\n",
    "        print('Calculation cycle takes more than TIMEOUT')\n",
    "    print(f'Timeout: {TIMEOUT}')\n",
    "    print(f'   mean: {round(ts_mean,5)}')\n",
    "    print(f'    max: {round(ts_max,5)}')"
   ]
  },
  {
   "cell_type": "code",
   "execution_count": 241,
   "metadata": {
    "tags": []
   },
   "outputs": [],
   "source": [
    "if DO_OFFLINE_INFERENCE:\n",
    "    for key, val in y_dct.items():\n",
    "        # print(f\"len({key}) = {len(y_dct[key])}\")\n",
    "        y_dct[key] = np.stack(val)\n",
    "        print(f\"{key}.shape = {y_dct[key].shape}\")"
   ]
  },
  {
   "cell_type": "code",
   "execution_count": 242,
   "metadata": {
    "tags": []
   },
   "outputs": [],
   "source": [
    "if DO_OFFLINE_INFERENCE and DO_DRAW_PLOTS:\n",
    "    fig = plt.figure(figsize=(10, 3))\n",
    "    \n",
    "    plt.plot(y_test, c='C0', label='y_cmd')\n",
    "    plt.plot(y_dct['y_predicted'], c='C1', label='y_predicted')\n",
    "    plt.plot(y_dct['y_postprocessed'], c='C2', label='y_postprocessed')\n",
    "    plt.plot(y_dct['y_commands'], c='C3', label='y_commands')\n",
    "    \n",
    "    plt.title('Ground truth vs predicted vs postprocessed vs commands')\n",
    "    plt.yticks(np.arange(len(GESTURES)), GESTURES)\n",
    "    plt.legend()\n",
    "    plt.grid()\n",
    "    plt.xlabel('Timesteps')\n",
    "    \n",
    "    plt.tight_layout()"
   ]
  },
  {
   "cell_type": "code",
   "execution_count": 243,
   "metadata": {},
   "outputs": [],
   "source": [
    "if DO_OFFLINE_INFERENCE:\n",
    "    print(classification_report(y_test, y_dct['y_commands'], target_names=GESTURES))"
   ]
  },
  {
   "cell_type": "markdown",
   "metadata": {},
   "source": [
    "### Online (prosthesis or virtual hand)"
   ]
  },
  {
   "cell_type": "code",
   "execution_count": 244,
   "metadata": {},
   "outputs": [],
   "source": [
    "if DO_ONLINE_INFERENCE:\n",
    "    TIMEOUT = 0.033\n",
    "    DEBUG = True\n",
    "    \n",
    "    ser = None\n",
    "    # ser_port = None\n",
    "    # ser_port = '/dev/ttyACM0'\n",
    "    ser_port = '/dev/cu.usbmodem3498365F31351'\n",
    "    \n",
    "    if ser_port is not None:\n",
    "        ser = serial.Serial(port=ser_port, timeout=2*TIMEOUT)\n",
    "        ser.write('T1#\\r\\n'.encode('utf-8')) # T1 for Timestamp activate\n",
    "        ser.write('M2#\\r\\n'.encode('utf-8')) # M2 for Mode == 2 = send samples\n",
    "        ser.write('S2#\\r\\n'.encode('utf-8')) # SYNC to 2 for sanity check\n",
    "    \n",
    "        # flush buffers\n",
    "        ser.reset_input_buffer()\n",
    "        ser.read()\n",
    "        \n",
    "        i = 0;\n",
    "        while(ser.in_waiting):\n",
    "            print(f'Flushing buffers {i}: {ser.in_waiting}', end='    \\r')\n",
    "            ser.read_all()\n",
    "            time.sleep(0.005)\n",
    "            i+=1;\n",
    "        ser.readline()\n",
    "        ser.readline()\n",
    "        \n",
    "    i = 0\n",
    "    ts_old = time.time()\n",
    "    ts_diff = 0;\n",
    "    \n",
    "    y_previous = None\n",
    "    while True:    \n",
    "        \n",
    "        # [Data reading]\n",
    "        s = ser.readline()\n",
    "        ts_start = time.time()\n",
    "        \n",
    "        try:\n",
    "            sample = np.array(s.decode('UTF-8')\\\n",
    "                               .replace('\\r\\n', \"\")\\\n",
    "                               .split(' ')\n",
    "                             ).astype(int)\n",
    "            [omg_sample, acc_sample, enc_sample, [button, sync, ts]] = np.array_split(sample, [50, 56, 62])\n",
    "            \n",
    "        except Exception as e:\n",
    "            print(e)\n",
    "            \n",
    "        # [/Data Reading]\n",
    "            \n",
    "        # [Data preprocessing]\n",
    "        sample_preprocessed = preprocessing(omg_sample)\n",
    "        # [/Data preprocessing]\n",
    "        \n",
    "        # [Inference]\n",
    "        y_predicted         = inference(sample_preprocessed)\n",
    "        # [/Inference]\n",
    "        \n",
    "        # [Inference Postprocessing]\n",
    "        y_postprocessed     = postprocessing(y_predicted, y_previous)\n",
    "        # [/Inference Postprocessing]\n",
    "        \n",
    "        # [Commands composition]\n",
    "        y_commands          = commands(y_postprocessed)\n",
    "        # [/Commands composition]\n",
    "        \n",
    "        # [Commands sending]\n",
    "        pack, _ = drv_abs_one(ser, list(y_commands)); # + [0]\n",
    "        # [/Commands sending]\n",
    "        \n",
    "        y_previous = y_postprocessed\n",
    "        \n",
    "        if DEBUG:\n",
    "            clear_output(wait=True)\n",
    "    \n",
    "            # sanity check: iteration should increase monotonically, TIMEDIFF approximately 32-34 ms, CYCLETIME < TIMEOUT, WAITING should be == 0\n",
    "            print(f'ITERATION:\\t{i}\\tTIMEDIFF:\\t{(ts_start - ts_old)*1000: .0f}\\tCYCLETIME:\\t{ts_diff*1000:.0f}\\tWAITING:\\t{ser.in_waiting}')\n",
    "            print('INPUT:\\n', s)\n",
    "    \n",
    "            # sanity check: Sizes of SAMPLE=65, OMG=50, ACC=6, ENCODERS=6\n",
    "            print(f'SAMPLE SIZE: {len(sample)}, OMG: {len(omg_sample)}, ACC: {len(acc_sample)}, ENCODERS: {len(enc_sample)}')\n",
    "            print(f'BUTTON: {button}, SYNC: {sync}, TS: {ts}')\n",
    "            print(y_commands)\n",
    "            print(pack)\n",
    "        \n",
    "        ts_diff = time.time() - ts_start\n",
    "        assert(ts_diff<TIMEOUT), 'Calculation cycle takes more than TIMEOUT, halting...'\n",
    "        ts_old = ts_start\n",
    "        i += 1 "
   ]
  },
  {
   "cell_type": "markdown",
   "metadata": {},
   "source": [
    "# Log into comet.ml"
   ]
  },
  {
   "cell_type": "code",
   "execution_count": 245,
   "metadata": {},
   "outputs": [],
   "source": [
    "if DO_LOG:\n",
    "    from comet_ml import Experiment\n",
    "    # Создаем эксперимент у пользователя WORKSPACE в проекте PROJECT_NAME используя ключ API_KEY\n",
    "    exp = Experiment(\n",
    "        api_key=API_KEY,\n",
    "        project_name=PROJECT_NAME,\n",
    "        workspace=WORKSPACE,\n",
    "    )\n",
    "    try: exp.set_name(type(model).__name__)\n",
    "    except:pass\n",
    "    \n",
    "    # Модель\n",
    "    try: exp.log_text(text=type(model).__name__)\n",
    "    except:pass\n",
    "    # Параметеры\n",
    "    try: exp.log_parameters(model.get_params())\n",
    "    except:pass\n",
    "    try: exp.log_parameters(best,prefix='best_')\n",
    "    except:pass\n",
    "    # Метрики\n",
    "    train_metrics = f1_score(y_train, y_pred_train, average='micro')\n",
    "    try: exp.log_metric(name='train',value=train_metrics)\n",
    "    except:pass\n",
    "    test_metrics = f1_score(y_test, y_pred_test, average='micro')\n",
    "    try: exp.log_metric(name='test',value=test_metrics)\n",
    "    except:pass\n",
    "    # Время\n",
    "    try: exp.log_metric(name='ts_mean',value=ts_mean)\n",
    "    except:pass\n",
    "    try: exp.log_metric(name='ts_max',value=ts_max)\n",
    "    except:pass\n",
    "    # График кривой обучения\n",
    "    learn_curve_plot.plot()\n",
    "    plt.title('Learning Curve')\n",
    "    plt.yticks(np.arange(0,1.05,0.05))\n",
    "    plt.grid()\n",
    "    try: exp.log_figure(figure=plt)\n",
    "    except:pass\n",
    "    # Матрица ошибок\n",
    "    try: exp.log_confusion_matrix(y_train.tolist(), y_pred_train.tolist())\n",
    "    except:pass\n",
    "    try: exp.log_confusion_matrix(y_test.tolist(), y_pred_test.tolist())\n",
    "    except:pass\n",
    "    \n",
    "    exp.display()\n",
    "    exp.end()"
   ]
  }
 ],
 "metadata": {
  "kernelspec": {
   "display_name": "Python 3 (ipykernel)",
   "language": "python",
   "name": "python3"
  },
  "language_info": {
   "codemirror_mode": {
    "name": "ipython",
    "version": 3
   },
   "file_extension": ".py",
   "mimetype": "text/x-python",
   "name": "python",
   "nbconvert_exporter": "python",
   "pygments_lexer": "ipython3",
   "version": "3.10.10"
  }
 },
 "nbformat": 4,
 "nbformat_minor": 4
}
